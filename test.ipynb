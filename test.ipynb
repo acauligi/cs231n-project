{
 "cells": [
  {
   "cell_type": "code",
   "execution_count": 1,
   "metadata": {},
   "outputs": [],
   "source": [
    "import copy\n",
    "import numpy as np\n",
    "\n",
    "import torch\n",
    "import torchvision\n",
    "from torch import nn\n",
    "from torch.autograd import Variable\n",
    "from torch.utils.data import DataLoader\n",
    "from torchvision import transforms\n",
    "from torchvision.utils import save_image\n",
    "from torchvision.datasets import MNIST\n",
    "import torch.optim as optim\n",
    "import os"
   ]
  },
  {
   "cell_type": "code",
   "execution_count": 2,
   "metadata": {},
   "outputs": [
    {
     "name": "stdout",
     "output_type": "stream",
     "text": [
      "/home/acauligi/cs_231n/cs231n-project/datasets\n",
      "/home/acauligi/cs_231n/cs231n-project\n"
     ]
    }
   ],
   "source": [
    "%cd datasets\n",
    "!bash get_datasets.sh\n",
    "%cd .."
   ]
  },
  {
   "cell_type": "code",
   "execution_count": 3,
   "metadata": {},
   "outputs": [
    {
     "data": {
      "text/plain": [
       "(1, 3, 32, 32)"
      ]
     },
     "execution_count": 3,
     "metadata": {},
     "output_type": "execute_result"
    }
   ],
   "source": [
    "from datasets.data_utils import get_CIFAR10_data\n",
    "data = get_CIFAR10_data(num_training=100, num_validation=10, num_test=100)\n",
    "data['X_train'][:1].shape"
   ]
  },
  {
   "cell_type": "code",
   "execution_count": 4,
   "metadata": {},
   "outputs": [],
   "source": [
    "from src.configs import CifarEncoder, CifarDecoder, CifarTransition\n",
    "from src.e2c import E2C"
   ]
  },
  {
   "cell_type": "code",
   "execution_count": 5,
   "metadata": {},
   "outputs": [
    {
     "data": {
      "text/plain": [
       "CifarEncoder(\n",
       "  (conv_layers): ModuleList(\n",
       "    (0): Conv2d(3, 8, kernel_size=(2, 2), stride=(2, 2), padding=(2, 2))\n",
       "    (1): Conv2d(8, 8, kernel_size=(3, 3), stride=(2, 2), padding=(2, 2))\n",
       "  )\n",
       "  (pool_layers): ModuleList(\n",
       "    (0): MaxPool2d(kernel_size=2, stride=2, padding=0, dilation=1, ceil_mode=False)\n",
       "    (1): MaxPool2d(kernel_size=2, stride=2, padding=0, dilation=1, ceil_mode=False)\n",
       "  )\n",
       "  (ff_layers): ModuleList(\n",
       "    (0): Linear(in_features=72, out_features=32, bias=True)\n",
       "    (1): Linear(in_features=32, out_features=32, bias=True)\n",
       "    (2): Linear(in_features=32, out_features=12, bias=True)\n",
       "  )\n",
       "  (conv_activation): ReLU()\n",
       "  (ff_activation): ReLU()\n",
       ")"
      ]
     },
     "execution_count": 5,
     "metadata": {},
     "output_type": "execute_result"
    }
   ],
   "source": [
    "dim_in = data['X_train'][0].shape\n",
    "dim_z = 6\n",
    "dim_u = 0\n",
    "\n",
    "enc = CifarEncoder(dim_in, dim_z)\n",
    "enc"
   ]
  },
  {
   "cell_type": "code",
   "execution_count": 6,
   "metadata": {},
   "outputs": [
    {
     "data": {
      "text/plain": [
       "tensor([[0.0000, 0.0000, 3.1496, 0.0000, 2.9314, 0.0000],\n",
       "        [0.0000, 0.0000, 2.0170, 0.0000, 0.8094, 0.0000],\n",
       "        [0.0000, 0.0000, 0.6289, 0.0000, 0.5156, 0.0000]],\n",
       "       grad_fn=<SplitBackward>)"
      ]
     },
     "execution_count": 6,
     "metadata": {},
     "output_type": "execute_result"
    }
   ],
   "source": [
    "inp = torch.from_numpy(data['X_train'][1:4]).float()\n",
    "mu, var = enc(inp)\n",
    "mu"
   ]
  },
  {
   "cell_type": "code",
   "execution_count": 7,
   "metadata": {},
   "outputs": [
    {
     "data": {
      "text/plain": [
       "CifarDecoder(\n",
       "  (ff_layers): ModuleList(\n",
       "    (0): Linear(in_features=6, out_features=32, bias=True)\n",
       "    (1): Linear(in_features=32, out_features=32, bias=True)\n",
       "    (2): Linear(in_features=32, out_features=968, bias=True)\n",
       "  )\n",
       "  (conv_layers): ModuleList(\n",
       "    (0): ConvTranspose2d(8, 8, kernel_size=(2, 2), stride=(2, 2), padding=(2, 2))\n",
       "    (1): ConvTranspose2d(8, 3, kernel_size=(2, 2), stride=(2, 2), padding=(2, 2))\n",
       "  )\n",
       "  (ff_activation): ReLU()\n",
       "  (conv_activation): ReLU()\n",
       ")"
      ]
     },
     "execution_count": 7,
     "metadata": {},
     "output_type": "execute_result"
    }
   ],
   "source": [
    "dec =  CifarDecoder(dim_z, dim_in)\n",
    "dec"
   ]
  },
  {
   "cell_type": "code",
   "execution_count": 8,
   "metadata": {},
   "outputs": [
    {
     "data": {
      "text/plain": [
       "CifarTransition(\n",
       "  (trans): Sequential(\n",
       "    (0): Linear(in_features=6, out_features=100, bias=True)\n",
       "    (1): BatchNorm1d(100, eps=1e-05, momentum=0.1, affine=True, track_running_stats=True)\n",
       "    (2): ReLU()\n",
       "    (3): Linear(in_features=100, out_features=100, bias=True)\n",
       "    (4): BatchNorm1d(100, eps=1e-05, momentum=0.1, affine=True, track_running_stats=True)\n",
       "    (5): ReLU()\n",
       "    (6): Linear(in_features=100, out_features=12, bias=True)\n",
       "  )\n",
       "  (fc_B): Linear(in_features=6, out_features=0, bias=True)\n",
       "  (fc_o): Linear(in_features=6, out_features=6, bias=True)\n",
       ")"
      ]
     },
     "execution_count": 8,
     "metadata": {},
     "output_type": "execute_result"
    }
   ],
   "source": [
    "trans = CifarTransition(dim_z, dim_u)\n",
    "trans"
   ]
  },
  {
   "cell_type": "code",
   "execution_count": 9,
   "metadata": {},
   "outputs": [
    {
     "data": {
      "text/plain": [
       "tensor([[0.0000, 0.0811, 0.0000, 0.0000, 0.0000, 0.0000],\n",
       "        [0.0000, 0.0000, 0.7130, 0.2189, 0.0000, 0.0000]],\n",
       "       grad_fn=<SplitBackward>)"
      ]
     },
     "execution_count": 9,
     "metadata": {},
     "output_type": "execute_result"
    }
   ],
   "source": [
    "model = E2C(dim_in, dim_z, dim_u, config='cifar')\n",
    "inp = torch.from_numpy(data['X_train'][:2]).float()\n",
    "\n",
    "mean, logvar = model.encode(inp)\n",
    "mean"
   ]
  },
  {
   "cell_type": "code",
   "execution_count": 10,
   "metadata": {},
   "outputs": [
    {
     "data": {
      "text/plain": [
       "tensor([[[[0.0000, 0.0127, 0.0000,  ..., 0.0193, 0.0000, 0.0000],\n",
       "          [0.0000, 0.0000, 0.0000,  ..., 0.0000, 0.0000, 0.0000],\n",
       "          [0.0000, 0.0000, 0.0000,  ..., 0.0007, 0.0000, 0.0016],\n",
       "          ...,\n",
       "          [0.0000, 0.0000, 0.0000,  ..., 0.0000, 0.0000, 0.0000],\n",
       "          [0.0000, 0.0018, 0.0000,  ..., 0.0038, 0.0000, 0.0058],\n",
       "          [0.0000, 0.0000, 0.0000,  ..., 0.0000, 0.0000, 0.0000]],\n",
       "\n",
       "         [[0.0000, 0.0000, 0.0000,  ..., 0.0000, 0.0000, 0.0000],\n",
       "          [0.0000, 0.0000, 0.0000,  ..., 0.0000, 0.0000, 0.0000],\n",
       "          [0.0000, 0.0000, 0.0000,  ..., 0.0000, 0.0000, 0.0000],\n",
       "          ...,\n",
       "          [0.0000, 0.0000, 0.0000,  ..., 0.0000, 0.0000, 0.0000],\n",
       "          [0.0000, 0.0000, 0.0000,  ..., 0.0000, 0.0000, 0.0000],\n",
       "          [0.0000, 0.0000, 0.0000,  ..., 0.0000, 0.0000, 0.0000]],\n",
       "\n",
       "         [[0.2045, 0.1869, 0.2040,  ..., 0.2089, 0.2115, 0.1947],\n",
       "          [0.1792, 0.1384, 0.1828,  ..., 0.1189, 0.1782, 0.1160],\n",
       "          [0.2170, 0.2146, 0.2209,  ..., 0.2097, 0.2160, 0.1983],\n",
       "          ...,\n",
       "          [0.1854, 0.1330, 0.1777,  ..., 0.1246, 0.1801, 0.1240],\n",
       "          [0.2087, 0.2024, 0.2157,  ..., 0.1996, 0.2148, 0.2010],\n",
       "          [0.1802, 0.1213, 0.1903,  ..., 0.1315, 0.1839, 0.1198]]],\n",
       "\n",
       "\n",
       "        [[[0.0000, 0.0118, 0.0000,  ..., 0.0224, 0.0000, 0.0000],\n",
       "          [0.0000, 0.0000, 0.0000,  ..., 0.0000, 0.0000, 0.0000],\n",
       "          [0.0000, 0.0000, 0.0000,  ..., 0.0017, 0.0000, 0.0013],\n",
       "          ...,\n",
       "          [0.0000, 0.0000, 0.0000,  ..., 0.0000, 0.0000, 0.0000],\n",
       "          [0.0000, 0.0012, 0.0000,  ..., 0.0045, 0.0000, 0.0070],\n",
       "          [0.0000, 0.0000, 0.0000,  ..., 0.0000, 0.0000, 0.0000]],\n",
       "\n",
       "         [[0.0000, 0.0000, 0.0000,  ..., 0.0000, 0.0000, 0.0000],\n",
       "          [0.0000, 0.0000, 0.0000,  ..., 0.0000, 0.0000, 0.0000],\n",
       "          [0.0000, 0.0000, 0.0000,  ..., 0.0000, 0.0000, 0.0000],\n",
       "          ...,\n",
       "          [0.0000, 0.0000, 0.0000,  ..., 0.0000, 0.0000, 0.0000],\n",
       "          [0.0000, 0.0000, 0.0000,  ..., 0.0000, 0.0000, 0.0000],\n",
       "          [0.0000, 0.0000, 0.0000,  ..., 0.0000, 0.0000, 0.0000]],\n",
       "\n",
       "         [[0.2044, 0.1879, 0.2097,  ..., 0.2061, 0.2112, 0.1944],\n",
       "          [0.1802, 0.1370, 0.1856,  ..., 0.1246, 0.1782, 0.1161],\n",
       "          [0.2154, 0.2138, 0.2221,  ..., 0.2085, 0.2165, 0.1994],\n",
       "          ...,\n",
       "          [0.1851, 0.1325, 0.1764,  ..., 0.1239, 0.1785, 0.1212],\n",
       "          [0.2085, 0.2028, 0.2197,  ..., 0.2001, 0.2160, 0.2024],\n",
       "          [0.1798, 0.1209, 0.1927,  ..., 0.1303, 0.1845, 0.1186]]]],\n",
       "       grad_fn=<ReluBackward0>)"
      ]
     },
     "execution_count": 10,
     "metadata": {},
     "output_type": "execute_result"
    }
   ],
   "source": [
    "model.decode(mean)"
   ]
  },
  {
   "cell_type": "markdown",
   "metadata": {},
   "source": [
    "# Training loop"
   ]
  },
  {
   "cell_type": "code",
   "execution_count": 11,
   "metadata": {},
   "outputs": [],
   "source": [
    "# criterion = nn.MSELoss()\n",
    "# optimizer = optim.Adam(e2c.parameters(), lr=1e-4)\n",
    "\n",
    "# # training parameters\n",
    "# TRAINING_ITERATIONS = int(100)\n",
    "# BATCH_SIZE = 32\n",
    "# CHECKPOINT_AFTER = int(10)\n",
    "# SAVEPOINT_AFTER = int(20)\n",
    "# TEST_BATCH_SIZE = int(200)\n",
    "\n",
    "# rand_idx = list(np.arange(0, X_train.shape[0]-1))\n",
    "# indices = [rand_idx[ii * BATCH_SIZE:(ii + 1) * BATCH_SIZE] \\\n",
    "#     for ii in range((len(rand_idx) + BATCH_SIZE - 1)     // BATCH_SIZE)]\n",
    "\n",
    "# for epoch in range(TRAINING_ITERATIONS):\n",
    "#     for ii, idx in enumerate(indices):\n",
    "#         optimizer.zero_grad()\n",
    "\n",
    "#         next_pre_rec = model(x, action, x_next)\n",
    "#         loss_rec, loss_trans = model.compute_loss(\\\n",
    "#             model.x_dec, model.x_next_pred_dec, \\\n",
    "#             x, x_next, \\\n",
    "#             model.Qz, model.Qz_next_pred, model.Qz_nex, mse=False)\n",
    "        \n",
    "#         ll = latent_loss(vae.z_mean, vae.z_sigma)\n",
    "#         loss = criterion(dec, inputs) + ll\n",
    "#         loss.backward()\n",
    "#         optimizer.step()"
   ]
  },
  {
   "cell_type": "code",
   "execution_count": 12,
   "metadata": {},
   "outputs": [],
   "source": [
    "# from IPython import display\n",
    "# import matplotlib.pyplot as plt\n",
    "\n",
    "# %matplotlib inline\n",
    "\n",
    "# import gym\n",
    "# from gym import wrappers\n",
    "\n",
    "# env = gym.make('CartPole-v0')\n",
    "# # env = wrappers.Monitor(env, \"./gym-results\", force=True)\n",
    "# env.reset()\n",
    "\n",
    "# # plt.figure(figsize=(9,9))\n",
    "# # img = plt.imshow(env.render(mode='rgb_array')) # only call this once\n",
    "\n",
    "# for _ in range(10):\n",
    "# #     img.set_data(env.render(mode='rgb_array')) # just update the data\n",
    "# #     display.display(plt.gcf())\n",
    "# #     display.clear_output(wait=True)\n",
    "\n",
    "#     obs, reward, done, info = env.step(env.action_space.sample())\n",
    "# #     env.render()\n",
    "#     if done:\n",
    "#         env.reset()\n",
    "\n",
    "# env.close()"
   ]
  }
 ],
 "metadata": {
  "kernelspec": {
   "display_name": "cs231n-project",
   "language": "python",
   "name": "cs231n-project"
  },
  "language_info": {
   "codemirror_mode": {
    "name": "ipython",
    "version": 3
   },
   "file_extension": ".py",
   "mimetype": "text/x-python",
   "name": "python",
   "nbconvert_exporter": "python",
   "pygments_lexer": "ipython3",
   "version": "3.6.3"
  }
 },
 "nbformat": 4,
 "nbformat_minor": 4
}
