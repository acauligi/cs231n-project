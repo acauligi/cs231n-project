{
 "cells": [
  {
   "cell_type": "code",
   "execution_count": 1,
   "metadata": {},
   "outputs": [],
   "source": [
    "import copy\n",
    "import numpy as np\n",
    "\n",
    "import torch\n",
    "import torchvision\n",
    "from torch import nn\n",
    "from torch.autograd import Variable\n",
    "from torch.utils.data import DataLoader\n",
    "from torchvision import transforms\n",
    "from torchvision.utils import save_image\n",
    "from torchvision.datasets import MNIST\n",
    "import os"
   ]
  },
  {
   "cell_type": "code",
   "execution_count": 2,
   "metadata": {},
   "outputs": [
    {
     "name": "stdout",
     "output_type": "stream",
     "text": [
      "/home/acauligi/cs_231n/cs231n-project/datasets\n",
      "/home/acauligi/cs_231n/cs231n-project\n"
     ]
    }
   ],
   "source": [
    "%cd datasets\n",
    "!bash get_datasets.sh\n",
    "%cd .."
   ]
  },
  {
   "cell_type": "code",
   "execution_count": 3,
   "metadata": {},
   "outputs": [
    {
     "data": {
      "text/plain": [
       "(1, 3, 32, 32)"
      ]
     },
     "execution_count": 3,
     "metadata": {},
     "output_type": "execute_result"
    }
   ],
   "source": [
    "from datasets.data_utils import get_CIFAR10_data\n",
    "data = get_CIFAR10_data(num_training=100, num_validation=10, num_test=100)\n",
    "data['X_train'][:1].shape"
   ]
  },
  {
   "cell_type": "code",
   "execution_count": 4,
   "metadata": {},
   "outputs": [],
   "source": [
    "from src.configs import BallEncoder, BallDecoder"
   ]
  },
  {
   "cell_type": "code",
   "execution_count": 5,
   "metadata": {},
   "outputs": [],
   "source": [
    "dim_in = data['X_train'][0].shape\n",
    "dim_z = 6\n",
    "dim_u = 0\n",
    "\n",
    "channels_enc = [3, 8, 8] # vector of length N+1 specifying # of channels for each conv layer\n",
    "ff_shape = [32, 32]   # vector specifying shape of feedforward network\n",
    "\n",
    "conv_activation = torch.nn.ReLU()\n",
    "ff_activation = torch.nn.ReLU()\n",
    "\n",
    "n_channels = len(channels_enc) - 1\n",
    "kernel_enc = [2,3]\n",
    "stride= [2] * n_channels\n",
    "padding= [2] * n_channels\n",
    "pool = [2, 2] * n_channels\n",
    "\n",
    "enc = BallEncoder(dim_in, dim_z, channels_enc, ff_shape, \\\n",
    "                 conv_activation, ff_activation, \\\n",
    "                 kernel_enc, stride, padding, pool)"
   ]
  },
  {
   "cell_type": "code",
   "execution_count": 6,
   "metadata": {},
   "outputs": [
    {
     "data": {
      "text/plain": [
       "tensor([[0.3701, 0.8016, 0.0000, 4.0176, 0.0000, 0.0000],\n",
       "        [1.5026, 2.0516, 0.0000, 5.2417, 0.0000, 0.0000],\n",
       "        [1.4796, 2.1794, 0.0000, 3.0253, 0.0000, 0.0000]],\n",
       "       grad_fn=<SplitBackward>)"
      ]
     },
     "execution_count": 6,
     "metadata": {},
     "output_type": "execute_result"
    }
   ],
   "source": [
    "inp = torch.from_numpy(data['X_train'][1:4]).float()\n",
    "mu, var = enc(inp)\n",
    "mu"
   ]
  },
  {
   "cell_type": "code",
   "execution_count": 7,
   "metadata": {},
   "outputs": [
    {
     "data": {
      "text/plain": [
       "torch.Size([3, 3, 32, 32])"
      ]
     },
     "execution_count": 7,
     "metadata": {},
     "output_type": "execute_result"
    }
   ],
   "source": [
    "channels_dec = [8, 8, dim_in[0]]\n",
    "kernel_dec = [2, 2]\n",
    "dec =  BallDecoder(dim_z, dim_in, channels_dec, ff_shape, kernel_dec, stride, padding, ff_activation, conv_activation)\n",
    "\n",
    "dec(mu).shape"
   ]
  }
 ],
 "metadata": {
  "kernelspec": {
   "display_name": "cs231n-project",
   "language": "python",
   "name": "cs231n-project"
  },
  "language_info": {
   "codemirror_mode": {
    "name": "ipython",
    "version": 3
   },
   "file_extension": ".py",
   "mimetype": "text/x-python",
   "name": "python",
   "nbconvert_exporter": "python",
   "pygments_lexer": "ipython3",
   "version": "3.6.3"
  }
 },
 "nbformat": 4,
 "nbformat_minor": 4
}
