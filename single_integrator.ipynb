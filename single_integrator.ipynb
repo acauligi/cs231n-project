{
 "cells": [
  {
   "cell_type": "code",
   "execution_count": 1,
   "metadata": {},
   "outputs": [],
   "source": [
    "%load_ext autoreload\n",
    "%autoreload 2"
   ]
  },
  {
   "cell_type": "code",
   "execution_count": 2,
   "metadata": {},
   "outputs": [],
   "source": [
    "import pdb\n",
    "import numpy as np\n",
    "from scipy import stats\n",
    "import matplotlib.pyplot as plt\n",
    "\n",
    "import h5py\n",
    "\n",
    "import time\n",
    "import random\n",
    "import string\n",
    "from datetime import datetime\n",
    "\n",
    "import torch\n",
    "import torchvision\n",
    "from torch import nn\n",
    "from torch.autograd import Variable\n",
    "from torch.utils.data import DataLoader\n",
    "from torchvision import transforms\n",
    "from torchvision.utils import save_image\n",
    "from torchvision.datasets import MNIST\n",
    "import torch.optim as optim\n",
    "import os\n",
    "\n",
    "from mie2c.e2c import E2C, compute_loss\n",
    "from mie2c.ball_model import get_ball_encoder, get_ball_decoder, get_ball_transition"
   ]
  },
  {
   "cell_type": "markdown",
   "metadata": {},
   "source": [
    "### Method to create (3,32,32) tensor"
   ]
  },
  {
   "cell_type": "code",
   "execution_count": 3,
   "metadata": {},
   "outputs": [],
   "source": [
    "def create_img(X, pos_bounds, radius=0.5, W=32):\n",
    "    x, y, vx, vy = X\n",
    "\n",
    "    # Check if center of ball outside image frame\n",
    "    if x < pos_bounds[0] or x > pos_bounds[1]:\n",
    "        return None\n",
    "    elif y < pos_bounds[0] or y > pos_bounds[1]:\n",
    "        return None\n",
    "\n",
    "    x_px = int(round(W * x / posbounds[1]))\n",
    "    y_px = int(round(W * y / posbounds[1]))\n",
    "    r_px = int(round(radius / pos_bounds[1] * W))\n",
    "\n",
    "    # Check if perimeter of ball outside image frame\n",
    "    if x_px+r_px > W or x_px-r_px < 0:\n",
    "        return None\n",
    "    elif y_px+r_px > W or y_px-r_px < 0:\n",
    "        return None\n",
    "\n",
    "    img = np.ones((3,W,W))\n",
    "    yy,xx = np.mgrid[:W, :W]\n",
    "    circle = (xx-x_px)**2 + (yy-y_px)**2\n",
    "    img[:, circle < r_px**2] = 0.\n",
    "\n",
    "    th = np.arctan2(vy,vx)\n",
    "    for rr in range(r_px):\n",
    "        img[0,int(y_px+rr*np.sin(th)), int(x_px+rr*np.cos(th))] = 1.\n",
    "\n",
    "    return img"
   ]
  },
  {
   "cell_type": "markdown",
   "metadata": {},
   "source": [
    "### PWA single integrator kinematics"
   ]
  },
  {
   "cell_type": "code",
   "execution_count": 4,
   "metadata": {},
   "outputs": [],
   "source": [
    "def step(x0, Ak, add_noise=False):\n",
    "    update = Ak @ x0\n",
    "    if add_noise:\n",
    "        mn = np.array([0.1, 0.1])\n",
    "        cov = np.diag([0.05, 0.05])\n",
    "        frzn = stats.multivariate_normal(mn, cov)\n",
    "        update += frzn.rvs(1)\n",
    "    return update"
   ]
  },
  {
   "cell_type": "markdown",
   "metadata": {},
   "source": [
    "### Generate training data"
   ]
  },
  {
   "cell_type": "code",
   "execution_count": 216,
   "metadata": {},
   "outputs": [],
   "source": [
    "n = 4 \n",
    "dh = 0.025\n",
    "\n",
    "posbounds = np.array([0,4]) # 4x4m square\n",
    "velmax = 10.\n",
    "\n",
    "Ak = np.eye(n)\n",
    "Ak[0:int(n/2), int(n/2):] = dh * np.eye(int(n/2))\n",
    "\n",
    "np.random.seed(12)\n",
    "\n",
    "W = 32\n",
    "\n",
    "# Training data\n",
    "NUM_DATA = 1000\n",
    "# NUM_DATA = 2\n",
    "\n",
    "X = np.zeros((NUM_DATA,3,W,W))\n",
    "X_next = np.zeros((NUM_DATA,3,W,W))\n",
    "\n",
    "count = 0\n",
    "while count < NUM_DATA:\n",
    "    x0 = np.hstack((posbounds[1] * np.random.rand(2), velmax*np.ones(2)))\n",
    "\n",
    "    img = create_img(x0, posbounds)\n",
    "    if img is None:\n",
    "        continue\n",
    "\n",
    "    x0_new = step(x0, Ak)\n",
    "    img_new = create_img(x0_new, posbounds)\n",
    "    if img_new is None:\n",
    "        continue\n",
    "\n",
    "    X[count,:,:,:] = img\n",
    "    X_next[count,:,:,:] = img_new\n",
    "\n",
    "    count += 1\n",
    "\n",
    "# Test data\n",
    "NUM_TEST = 500\n",
    "\n",
    "X_test = np.zeros((NUM_TEST,3,W,W))\n",
    "X_next_test = np.zeros((NUM_TEST,3,W,W))\n",
    "\n",
    "count = 0\n",
    "while count < NUM_TEST:\n",
    "    x0 = np.hstack((posbounds[1] * np.random.rand(2), velmax*np.ones(2)))\n",
    "\n",
    "    img = create_img(x0, posbounds)\n",
    "    if img is None:\n",
    "        continue\n",
    "\n",
    "    x0_new = step(x0, Ak)\n",
    "    img_new = create_img(x0_new, posbounds)\n",
    "    if img_new is None:\n",
    "        continue\n",
    "\n",
    "    X_test[count,:,:,:] = img\n",
    "    X_next_test[count,:,:,:] = img_new\n",
    "\n",
    "    count += 1"
   ]
  },
  {
   "cell_type": "code",
   "execution_count": 217,
   "metadata": {},
   "outputs": [
    {
     "data": {
      "text/plain": [
       "<matplotlib.image.AxesImage at 0x1553784d0>"
      ]
     },
     "execution_count": 217,
     "metadata": {},
     "output_type": "execute_result"
    },
    {
     "data": {
      "image/png": "[encoded data removed]",
      "text/plain": [
       "<Figure size 576x576 with 2 Axes>"
      ]
     },
     "metadata": {
      "needs_background": "light"
     },
     "output_type": "display_data"
    }
   ],
   "source": [
    "idx = 0\n",
    "img, img_next = X[idx], X_next[idx]\n",
    "\n",
    "fig = plt.figure(figsize=(8,8))\n",
    "\n",
    "fig.add_subplot(1,2,1)\n",
    "plt.imshow(img.transpose(1,2,0))\n",
    "\n",
    "fig.add_subplot(1,2,2)\n",
    "plt.imshow(img_next.transpose(1,2,0))"
   ]
  },
  {
   "cell_type": "markdown",
   "metadata": {},
   "source": [
    "### Construct encoder/decoder"
   ]
  },
  {
   "cell_type": "code",
   "execution_count": 476,
   "metadata": {},
   "outputs": [],
   "source": [
    "dim_in = X[0].shape\n",
    "dim_z = 6\n",
    "dim_u = 1\n",
    "\n",
    "encoder = get_ball_encoder(dim_in, dim_z) \n",
    "transition = get_ball_transition(dim_z, dim_u)\n",
    "decoder = get_ball_decoder(dim_z, dim_in) \n",
    "\n",
    "model = E2C(encoder, transition, decoder)"
   ]
  },
  {
   "cell_type": "code",
   "execution_count": 477,
   "metadata": {},
   "outputs": [
    {
     "name": "stderr",
     "output_type": "stream",
     "text": [
      "Clipping input data to the valid range for imshow with RGB data ([0..1] for floats or [0..255] for integers).\n"
     ]
    },
    {
     "data": {
      "text/plain": [
       "<matplotlib.image.AxesImage at 0x173b474d0>"
      ]
     },
     "execution_count": 477,
     "metadata": {},
     "output_type": "execute_result"
    },
    {
     "data": {
      "image/png": "[encoded data removed]",
      "text/plain": [
       "<Figure size 576x576 with 1 Axes>"
      ]
     },
     "metadata": {
      "needs_background": "light"
     },
     "output_type": "display_data"
    }
   ],
   "source": [
    "inp = torch.from_numpy(X[:2]).float()\n",
    "mean, logvar = model.encode(inp)\n",
    "x_dec = model.decode(mean)[0]\n",
    "\n",
    "fig = plt.figure(figsize=(8,8))\n",
    "\n",
    "# fig.add_subplot(1,1,1)\n",
    "plt.imshow(x_dec.detach().numpy().transpose(1,2,0))"
   ]
  },
  {
   "cell_type": "markdown",
   "metadata": {},
   "source": [
    "## Training loop"
   ]
  },
  {
   "cell_type": "code",
   "execution_count": 478,
   "metadata": {},
   "outputs": [],
   "source": [
    "BATCH_SIZE = 200\n",
    "dataset = torch.utils.data.TensorDataset(torch.tensor(X).float(),torch.tensor(X_next).float())\n",
    "dataloader = torch.utils.data.DataLoader(dataset, batch_size=BATCH_SIZE, shuffle=True)\n",
    "\n",
    "optimizer = optim.Adam(model.parameters())"
   ]
  },
  {
   "cell_type": "code",
   "execution_count": 493,
   "metadata": {},
   "outputs": [
    {
     "name": "stdout",
     "output_type": "stream",
     "text": [
      "29.9318904876709\n",
      "29.831331253051758\n",
      "29.75542449951172\n",
      "29.11989974975586\n",
      "29.861398696899414\n",
      "29.72826385498047\n",
      "29.820816040039062\n",
      "29.90044593811035\n",
      "29.916851043701172\n",
      "29.453598022460938\n",
      "29.933317184448242\n",
      "29.75634002685547\n",
      "29.067941665649414\n",
      "30.505260467529297\n",
      "29.900033950805664\n",
      "31.51262664794922\n",
      "30.06041717529297\n",
      "30.948312759399414\n",
      "30.456937789916992\n",
      "29.709148406982422\n",
      "29.634971618652344\n",
      "29.736841201782227\n",
      "29.910808563232422\n",
      "29.892301559448242\n",
      "30.022537231445312\n",
      "29.453710556030273\n",
      "29.155004501342773\n",
      "29.269014358520508\n",
      "28.997642517089844\n",
      "29.178997039794922\n",
      "28.773996353149414\n",
      "29.529640197753906\n",
      "28.517288208007812\n",
      "28.812192916870117\n",
      "28.7603759765625\n",
      "28.104446411132812\n",
      "28.734609603881836\n",
      "28.770719528198242\n",
      "29.381818771362305\n",
      "29.452016830444336\n",
      "28.985515594482422\n",
      "29.453685760498047\n",
      "28.996912002563477\n",
      "28.57550811767578\n",
      "28.802715301513672\n",
      "29.632366180419922\n",
      "28.87655258178711\n",
      "28.745851516723633\n",
      "29.222604751586914\n",
      "28.501060485839844\n",
      "28.653032302856445\n",
      "28.772216796875\n",
      "29.493297576904297\n",
      "28.9575252532959\n",
      "28.664743423461914\n",
      "28.675466537475586\n",
      "28.838586807250977\n",
      "28.593259811401367\n",
      "29.0236759185791\n",
      "28.230928421020508\n",
      "28.15115737915039\n",
      "28.46978759765625\n",
      "28.367380142211914\n",
      "28.03774642944336\n",
      "29.126615524291992\n",
      "28.515975952148438\n",
      "28.674039840698242\n",
      "28.526100158691406\n",
      "27.979406356811523\n",
      "27.937440872192383\n",
      "28.714773178100586\n",
      "28.637981414794922\n",
      "27.783920288085938\n",
      "28.608091354370117\n",
      "28.616958618164062\n",
      "27.937707901000977\n",
      "28.844030380249023\n",
      "29.02019500732422\n",
      "29.952491760253906\n",
      "29.203353881835938\n",
      "28.924894332885742\n",
      "28.413755416870117\n",
      "28.654340744018555\n",
      "29.848840713500977\n",
      "29.153953552246094\n",
      "28.29999351501465\n",
      "29.182361602783203\n",
      "28.16427230834961\n",
      "27.900592803955078\n",
      "28.189809799194336\n",
      "27.966623306274414\n",
      "28.59459686279297\n",
      "28.542261123657227\n",
      "27.577320098876953\n",
      "28.041648864746094\n",
      "28.132535934448242\n",
      "27.7877197265625\n",
      "27.795299530029297\n",
      "28.098703384399414\n",
      "27.56993865966797\n"
     ]
    }
   ],
   "source": [
    "# training parameters\n",
    "NUM_EPOCH = 100\n",
    "\n",
    "# KL_LAMBDA = 1.\n",
    "\n",
    "for epoch in range(NUM_EPOCH):\n",
    "    ii = 0\n",
    "    for x, x_next in dataloader:\n",
    "        optimizer.zero_grad()\n",
    "        action = torch.zeros((x.shape[0], 1)).float()\n",
    "        \n",
    "#         next_pre_rec = model(x, action, x_next)\n",
    "#         x_dec = model(x, action, x_next)\n",
    "    \n",
    "#         loss_rec, loss_trans = compute_loss(\\\n",
    "#             model.x_dec, model.x_next_pred_dec, \\\n",
    "#             x, x_next, \\\n",
    "#             model.Qz, model.Qz_next_pred, model.Qz_next, mse=True)\n",
    "      \n",
    "#         loss = loss_rec + KL_LAMBDA * loss_trans\n",
    "\n",
    "#         loss_rec, loss_trans = compute_loss(\\\n",
    "#             model.x_dec, model.x_next_pred_dec, \\\n",
    "#             x, x_next, \\\n",
    "#             model.Qz, model.Qz_next_pred, model.Qz_next, mse=True)\n",
    "\n",
    "        model(x, action, x_next)\n",
    "        loss = compute_loss(model.x_dec, model.x_next_dec, x, x_next, model.Qz, model.Qz_next, mse=True)\n",
    "\n",
    "#         print(\"rec: \" + str(loss_rec.item()))\n",
    "#         print(\"trans: \" + str(loss_trans.item()))\n",
    "        if ii % 10 == 0:\n",
    "            print(loss.item())\n",
    "        \n",
    "        loss.backward()\n",
    "        optimizer.step()\n",
    "        ii += 1"
   ]
  },
  {
   "cell_type": "code",
   "execution_count": 489,
   "metadata": {},
   "outputs": [],
   "source": [
    "x_pred = model.predict(torch.tensor(X).float(), torch.zeros(NUM_DATA,1).float())"
   ]
  },
  {
   "cell_type": "code",
   "execution_count": 490,
   "metadata": {},
   "outputs": [
    {
     "name": "stderr",
     "output_type": "stream",
     "text": [
      "Clipping input data to the valid range for imshow with RGB data ([0..1] for floats or [0..255] for integers).\n"
     ]
    },
    {
     "data": {
      "text/plain": [
       "<matplotlib.image.AxesImage at 0x15f9c5510>"
      ]
     },
     "execution_count": 490,
     "metadata": {},
     "output_type": "execute_result"
    },
    {
     "data": {
      "image/png": "[encoded data removed]",
      "text/plain": [
       "<Figure size 576x576 with 3 Axes>"
      ]
     },
     "metadata": {
      "needs_background": "light"
     },
     "output_type": "display_data"
    }
   ],
   "source": [
    "idx = np.random.choice(NUM_DATA)\n",
    "img, img_next, img_next_pred = X[idx], X_next[idx], x_pred[idx].detach().numpy()\n",
    "\n",
    "fig = plt.figure(figsize=(8,8))\n",
    "\n",
    "fig.add_subplot(1,3,1)\n",
    "plt.imshow(img.transpose(1,2,0))\n",
    "\n",
    "fig.add_subplot(1,3,2)\n",
    "plt.imshow(img_next.transpose(1,2,0))\n",
    "\n",
    "fig.add_subplot(1,3,3)\n",
    "plt.imshow(img_next_pred.transpose(1,2,0))"
   ]
  },
  {
   "cell_type": "code",
   "execution_count": 491,
   "metadata": {},
   "outputs": [],
   "source": [
    "x_pred = model.predict(torch.tensor(X_test).float(), torch.zeros(NUM_TEST,1).float())"
   ]
  },
  {
   "cell_type": "code",
   "execution_count": 492,
   "metadata": {},
   "outputs": [
    {
     "name": "stderr",
     "output_type": "stream",
     "text": [
      "Clipping input data to the valid range for imshow with RGB data ([0..1] for floats or [0..255] for integers).\n"
     ]
    },
    {
     "data": {
      "text/plain": [
       "<matplotlib.image.AxesImage at 0x1671bc690>"
      ]
     },
     "execution_count": 492,
     "metadata": {},
     "output_type": "execute_result"
    },
    {
     "data": {
      "image/png": "[encoded data removed]",
      "text/plain": [
       "<Figure size 576x576 with 3 Axes>"
      ]
     },
     "metadata": {
      "needs_background": "light"
     },
     "output_type": "display_data"
    }
   ],
   "source": [
    "idx = np.random.choice(NUM_TEST)\n",
    "img, img_next, img_next_pred = X_test[idx], X_next_test[idx], x_pred[idx].detach().numpy()\n",
    "\n",
    "fig = plt.figure(figsize=(8,8))\n",
    "\n",
    "fig.add_subplot(1,3,1)\n",
    "plt.imshow(img.transpose(1,2,0))\n",
    "\n",
    "fig.add_subplot(1,3,2)\n",
    "plt.imshow(img_next.transpose(1,2,0))\n",
    "\n",
    "fig.add_subplot(1,3,3)\n",
    "plt.imshow(img_next_pred.transpose(1,2,0))"
   ]
  },
  {
   "cell_type": "code",
   "execution_count": null,
   "metadata": {},
   "outputs": [],
   "source": [
    "\n",
    "\n",
    "\n",
    "\n",
    "\n",
    "\n",
    "\n",
    "\n",
    "\n",
    "\n",
    "\n",
    "\n",
    "\n",
    "\n",
    "\n",
    "\n"
   ]
  }
 ],
 "metadata": {
  "kernelspec": {
   "display_name": "Python 3",
   "language": "python",
   "name": "python3"
  },
  "language_info": {
   "codemirror_mode": {
    "name": "ipython",
    "version": 3
   },
   "file_extension": ".py",
   "mimetype": "text/x-python",
   "name": "python",
   "nbconvert_exporter": "python",
   "pygments_lexer": "ipython3",
   "version": "3.7.5"
  }
 },
 "nbformat": 4,
 "nbformat_minor": 4
}
