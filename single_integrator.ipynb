{
 "cells": [
  {
   "cell_type": "code",
   "execution_count": 1,
   "metadata": {},
   "outputs": [],
   "source": [
    "%load_ext autoreload\n",
    "%autoreload 2"
   ]
  },
  {
   "cell_type": "code",
   "execution_count": 2,
   "metadata": {},
   "outputs": [],
   "source": [
    "import pdb\n",
    "import numpy as np\n",
    "from scipy import stats\n",
    "import matplotlib.pyplot as plt\n",
    "\n",
    "import h5py\n",
    "\n",
    "import time\n",
    "import random\n",
    "import string\n",
    "from datetime import datetime\n",
    "\n",
    "import torch\n",
    "import torchvision\n",
    "from torch import nn\n",
    "from torch.autograd import Variable\n",
    "from torch.utils.data import DataLoader\n",
    "from torchvision import transforms\n",
    "from torchvision.utils import save_image\n",
    "from torchvision.datasets import MNIST\n",
    "import torch.optim as optim\n",
    "import os\n",
    "\n",
    "from mie2c.e2c import E2C, compute_loss\n",
    "from mie2c.ball_model import get_ball_encoder, get_ball_decoder, get_ball_transition"
   ]
  },
  {
   "cell_type": "markdown",
   "metadata": {},
   "source": [
    "### Method to create (3,32,32) tensor"
   ]
  },
  {
   "cell_type": "code",
   "execution_count": 3,
   "metadata": {},
   "outputs": [],
   "source": [
    "def create_img(X, pos_bounds, radius=0.5, W=32):\n",
    "    x, y, vx, vy = X\n",
    "\n",
    "    # Check if center of ball outside image frame\n",
    "    if x < pos_bounds[0] or x > pos_bounds[1]:\n",
    "        return None\n",
    "    elif y < pos_bounds[0] or y > pos_bounds[1]:\n",
    "        return None\n",
    "\n",
    "    x_px = int(round(W * x / posbounds[1]))\n",
    "    y_px = int(round(W * y / posbounds[1]))\n",
    "    r_px = int(round(radius / pos_bounds[1] * W))\n",
    "\n",
    "    # Check if perimeter of ball outside image frame\n",
    "    if x_px+r_px > W or x_px-r_px < 0:\n",
    "        return None\n",
    "    elif y_px+r_px > W or y_px-r_px < 0:\n",
    "        return None\n",
    "\n",
    "    img = np.ones((3,W,W))\n",
    "    yy,xx = np.mgrid[:W, :W]\n",
    "    circle = (xx-x_px)**2 + (yy-y_px)**2\n",
    "    img[:, circle < r_px**2] = 0.\n",
    "\n",
    "    th = np.arctan2(vy,vx)\n",
    "    for rr in range(r_px):\n",
    "        img[0,int(y_px+rr*np.sin(th)), int(x_px+rr*np.cos(th))] = 1.\n",
    "\n",
    "    return img"
   ]
  },
  {
   "cell_type": "markdown",
   "metadata": {},
   "source": [
    "### PWA single integrator kinematics"
   ]
  },
  {
   "cell_type": "code",
   "execution_count": 4,
   "metadata": {},
   "outputs": [],
   "source": [
    "def step(x0, Ak, add_noise=False):\n",
    "    update = Ak @ x0\n",
    "    if add_noise:\n",
    "        mn = np.array([0.1, 0.1])\n",
    "        cov = np.diag([0.05, 0.05])\n",
    "        frzn = stats.multivariate_normal(mn, cov)\n",
    "        update += frzn.rvs(1)\n",
    "    return update"
   ]
  },
  {
   "cell_type": "markdown",
   "metadata": {},
   "source": [
    "### Generate training data"
   ]
  },
  {
   "cell_type": "code",
   "execution_count": 216,
   "metadata": {},
   "outputs": [],
   "source": [
    "n = 4 \n",
    "dh = 0.025\n",
    "\n",
    "posbounds = np.array([0,4]) # 4x4m square\n",
    "velmax = 10.\n",
    "\n",
    "Ak = np.eye(n)\n",
    "Ak[0:int(n/2), int(n/2):] = dh * np.eye(int(n/2))\n",
    "\n",
    "np.random.seed(12)\n",
    "\n",
    "W = 32\n",
    "\n",
    "# Training data\n",
    "NUM_DATA = 1000\n",
    "# NUM_DATA = 2\n",
    "\n",
    "X = np.zeros((NUM_DATA,3,W,W))\n",
    "X_next = np.zeros((NUM_DATA,3,W,W))\n",
    "\n",
    "count = 0\n",
    "while count < NUM_DATA:\n",
    "    x0 = np.hstack((posbounds[1] * np.random.rand(2), velmax*np.ones(2)))\n",
    "\n",
    "    img = create_img(x0, posbounds)\n",
    "    if img is None:\n",
    "        continue\n",
    "\n",
    "    x0_new = step(x0, Ak)\n",
    "    img_new = create_img(x0_new, posbounds)\n",
    "    if img_new is None:\n",
    "        continue\n",
    "\n",
    "    X[count,:,:,:] = img\n",
    "    X_next[count,:,:,:] = img_new\n",
    "\n",
    "    count += 1\n",
    "\n",
    "# Test data\n",
    "NUM_TEST = 500\n",
    "\n",
    "X_test = np.zeros((NUM_TEST,3,W,W))\n",
    "X_next_test = np.zeros((NUM_TEST,3,W,W))\n",
    "\n",
    "count = 0\n",
    "while count < NUM_TEST:\n",
    "    x0 = np.hstack((posbounds[1] * np.random.rand(2), velmax*np.ones(2)))\n",
    "\n",
    "    img = create_img(x0, posbounds)\n",
    "    if img is None:\n",
    "        continue\n",
    "\n",
    "    x0_new = step(x0, Ak)\n",
    "    img_new = create_img(x0_new, posbounds)\n",
    "    if img_new is None:\n",
    "        continue\n",
    "\n",
    "    X_test[count,:,:,:] = img\n",
    "    X_next_test[count,:,:,:] = img_new\n",
    "\n",
    "    count += 1"
   ]
  },
  {
   "cell_type": "code",
   "execution_count": 217,
   "metadata": {},
   "outputs": [
    {
     "data": {
      "text/plain": [
       "<matplotlib.image.AxesImage at 0x1553784d0>"
      ]
     },
     "execution_count": 217,
     "metadata": {},
     "output_type": "execute_result"
    },
    {
     "data": {
      "image/png": "[encoded data removed]",
      "text/plain": [
       "<Figure size 576x576 with 2 Axes>"
      ]
     },
     "metadata": {
      "needs_background": "light"
     },
     "output_type": "display_data"
    }
   ],
   "source": [
    "idx = 0\n",
    "img, img_next = X[idx], X_next[idx]\n",
    "\n",
    "fig = plt.figure(figsize=(8,8))\n",
    "\n",
    "fig.add_subplot(1,2,1)\n",
    "plt.imshow(img.transpose(1,2,0))\n",
    "\n",
    "fig.add_subplot(1,2,2)\n",
    "plt.imshow(img_next.transpose(1,2,0))"
   ]
  },
  {
   "cell_type": "markdown",
   "metadata": {},
   "source": [
    "### Construct encoder/decoder"
   ]
  },
  {
   "cell_type": "code",
   "execution_count": 218,
   "metadata": {},
   "outputs": [],
   "source": [
    "dim_in = X[0].shape\n",
    "dim_z = 6\n",
    "dim_u = 1\n",
    "\n",
    "encoder = get_ball_encoder(dim_in, dim_z) \n",
    "transition = get_ball_transition(dim_z, dim_u)\n",
    "decoder = get_ball_decoder(dim_z, dim_in) \n",
    "\n",
    "model = E2C(encoder, transition, decoder)"
   ]
  },
  {
   "cell_type": "code",
   "execution_count": 219,
   "metadata": {},
   "outputs": [
    {
     "name": "stderr",
     "output_type": "stream",
     "text": [
      "Clipping input data to the valid range for imshow with RGB data ([0..1] for floats or [0..255] for integers).\n"
     ]
    },
    {
     "data": {
      "text/plain": [
       "<matplotlib.image.AxesImage at 0x15558c810>"
      ]
     },
     "execution_count": 219,
     "metadata": {},
     "output_type": "execute_result"
    },
    {
     "data": {
      "image/png": "[encoded data removed]",
      "text/plain": [
       "<Figure size 576x576 with 1 Axes>"
      ]
     },
     "metadata": {
      "needs_background": "light"
     },
     "output_type": "display_data"
    }
   ],
   "source": [
    "inp = torch.from_numpy(X[:2]).float()\n",
    "mean, logvar = model.encode(inp)\n",
    "x_dec = model.decode(mean)[0]\n",
    "\n",
    "fig = plt.figure(figsize=(8,8))\n",
    "\n",
    "# fig.add_subplot(1,1,1)\n",
    "plt.imshow(x_dec.detach().numpy().transpose(1,2,0))"
   ]
  },
  {
   "cell_type": "markdown",
   "metadata": {},
   "source": [
    "## Training loop"
   ]
  },
  {
   "cell_type": "code",
   "execution_count": 221,
   "metadata": {},
   "outputs": [],
   "source": [
    "BATCH_SIZE = 200\n",
    "dataset = torch.utils.data.TensorDataset(torch.tensor(X).float(),torch.tensor(X_next).float())\n",
    "dataloader = torch.utils.data.DataLoader(dataset, batch_size=BATCH_SIZE, shuffle=True)\n",
    "\n",
    "optimizer = optim.Adam(model.parameters())"
   ]
  },
  {
   "cell_type": "code",
   "execution_count": 308,
   "metadata": {},
   "outputs": [
    {
     "name": "stdout",
     "output_type": "stream",
     "text": [
      "36.160804748535156\n",
      "34.968807220458984\n",
      "34.69626235961914\n",
      "34.927364349365234\n",
      "34.39984893798828\n",
      "34.42072677612305\n",
      "34.10264587402344\n",
      "34.989898681640625\n",
      "35.93961715698242\n",
      "33.78919219970703\n",
      "35.43504333496094\n",
      "35.22930908203125\n",
      "34.27687072753906\n",
      "33.866756439208984\n",
      "34.94696807861328\n",
      "34.483314514160156\n",
      "34.626182556152344\n",
      "34.720916748046875\n",
      "34.30366516113281\n",
      "33.873382568359375\n",
      "33.778682708740234\n",
      "33.90135955810547\n",
      "34.09946060180664\n",
      "35.16689682006836\n",
      "44.44017028808594\n",
      "40.83412551879883\n",
      "36.484859466552734\n",
      "36.609188079833984\n",
      "36.4235725402832\n",
      "35.834415435791016\n",
      "34.891902923583984\n",
      "33.736289978027344\n",
      "33.857269287109375\n",
      "34.64679718017578\n",
      "32.49872589111328\n",
      "34.1820182800293\n",
      "34.6478157043457\n",
      "33.64399719238281\n",
      "34.65459060668945\n",
      "33.95561218261719\n",
      "35.10650634765625\n",
      "34.9466667175293\n",
      "34.625831604003906\n",
      "34.36756896972656\n",
      "34.399635314941406\n",
      "34.16144561767578\n",
      "34.470130920410156\n",
      "32.85871505737305\n",
      "34.02386474609375\n",
      "33.51743698120117\n",
      "32.889076232910156\n",
      "32.895999908447266\n",
      "32.796653747558594\n",
      "33.06748580932617\n",
      "33.43241882324219\n",
      "33.622642517089844\n",
      "34.15168762207031\n",
      "33.24878692626953\n",
      "32.94568634033203\n",
      "32.43681716918945\n",
      "32.44200134277344\n",
      "33.146697998046875\n",
      "32.942996978759766\n",
      "33.05280303955078\n",
      "32.554901123046875\n",
      "32.87606430053711\n",
      "32.713260650634766\n",
      "32.72592544555664\n",
      "31.725698471069336\n",
      "32.714500427246094\n",
      "31.701574325561523\n",
      "32.27547073364258\n",
      "32.20127868652344\n",
      "32.723388671875\n",
      "32.258060455322266\n",
      "33.636329650878906\n",
      "33.083255767822266\n",
      "33.414344787597656\n",
      "34.63783264160156\n",
      "33.661415100097656\n",
      "32.9134407043457\n",
      "32.911231994628906\n",
      "31.93234634399414\n",
      "31.854612350463867\n",
      "32.138275146484375\n",
      "31.694934844970703\n",
      "31.785659790039062\n",
      "31.50301742553711\n",
      "32.160762786865234\n",
      "32.121829986572266\n",
      "31.968894958496094\n",
      "30.94558334350586\n",
      "32.5353889465332\n",
      "31.350318908691406\n",
      "30.882436752319336\n",
      "30.794477462768555\n",
      "31.425193786621094\n",
      "31.794755935668945\n",
      "31.532442092895508\n",
      "32.40672302246094\n"
     ]
    }
   ],
   "source": [
    "# training parameters\n",
    "NUM_EPOCH = 100\n",
    "\n",
    "# KL_LAMBDA = 1.\n",
    "\n",
    "for epoch in range(NUM_EPOCH):\n",
    "    ii = 0\n",
    "    for x, x_next in dataloader:\n",
    "        optimizer.zero_grad()\n",
    "        action = torch.zeros((x.shape[0], 1)).float()\n",
    "        \n",
    "#         next_pre_rec = model(x, action, x_next)\n",
    "#         x_dec = model(x, action, x_next)\n",
    "    \n",
    "#         loss_rec, loss_trans = compute_loss(\\\n",
    "#             model.x_dec, model.x_next_pred_dec, \\\n",
    "#             x, x_next, \\\n",
    "#             model.Qz, model.Qz_next_pred, model.Qz_next, mse=True)\n",
    "      \n",
    "#         loss = loss_rec + KL_LAMBDA * loss_trans\n",
    "\n",
    "#         loss_rec, loss_trans = compute_loss(\\\n",
    "#             model.x_dec, model.x_next_pred_dec, \\\n",
    "#             x, x_next, \\\n",
    "#             model.Qz, model.Qz_next_pred, model.Qz_next, mse=True)\n",
    "\n",
    "        model(x, action, x_next)\n",
    "        loss = compute_loss(model.x_dec, model.x_next_dec, x, x_next, model.Qz, model.Qz_next, mse=True)\n",
    "\n",
    "#         print(\"rec: \" + str(loss_rec.item()))\n",
    "#         print(\"trans: \" + str(loss_trans.item()))\n",
    "        if ii % 10 == 0:\n",
    "            print(loss.item())\n",
    "        \n",
    "        loss.backward()\n",
    "        optimizer.step()\n",
    "        ii += 1"
   ]
  },
  {
   "cell_type": "code",
   "execution_count": 309,
   "metadata": {},
   "outputs": [],
   "source": [
    "x_pred = model.predict(torch.tensor(X).float(), torch.zeros(NUM_DATA,1).float())"
   ]
  },
  {
   "cell_type": "code",
   "execution_count": 310,
   "metadata": {},
   "outputs": [
    {
     "name": "stderr",
     "output_type": "stream",
     "text": [
      "Clipping input data to the valid range for imshow with RGB data ([0..1] for floats or [0..255] for integers).\n"
     ]
    },
    {
     "data": {
      "text/plain": [
       "<matplotlib.image.AxesImage at 0x160444250>"
      ]
     },
     "execution_count": 310,
     "metadata": {},
     "output_type": "execute_result"
    },
    {
     "data": {
      "image/png": "[encoded data removed]",
      "text/plain": [
       "<Figure size 576x576 with 3 Axes>"
      ]
     },
     "metadata": {
      "needs_background": "light"
     },
     "output_type": "display_data"
    }
   ],
   "source": [
    "idx = np.random.choice(NUM_DATA)\n",
    "img, img_next, img_next_pred = X[idx], X_next[idx], x_pred[idx].detach().numpy()\n",
    "\n",
    "fig = plt.figure(figsize=(8,8))\n",
    "\n",
    "fig.add_subplot(1,3,1)\n",
    "plt.imshow(img.transpose(1,2,0))\n",
    "\n",
    "fig.add_subplot(1,3,2)\n",
    "plt.imshow(img_next.transpose(1,2,0))\n",
    "\n",
    "fig.add_subplot(1,3,3)\n",
    "plt.imshow(img_next_pred.transpose(1,2,0))"
   ]
  },
  {
   "cell_type": "code",
   "execution_count": 311,
   "metadata": {},
   "outputs": [],
   "source": [
    "x_pred = model.predict(torch.tensor(X_test).float(), torch.zeros(NUM_TEST,1).float())"
   ]
  },
  {
   "cell_type": "code",
   "execution_count": 323,
   "metadata": {},
   "outputs": [
    {
     "name": "stderr",
     "output_type": "stream",
     "text": [
      "Clipping input data to the valid range for imshow with RGB data ([0..1] for floats or [0..255] for integers).\n"
     ]
    },
    {
     "data": {
      "text/plain": [
       "<matplotlib.image.AxesImage at 0x166b75750>"
      ]
     },
     "execution_count": 323,
     "metadata": {},
     "output_type": "execute_result"
    },
    {
     "data": {
      "image/png": "[encoded data removed]",
      "text/plain": [
       "<Figure size 576x576 with 3 Axes>"
      ]
     },
     "metadata": {
      "needs_background": "light"
     },
     "output_type": "display_data"
    }
   ],
   "source": [
    "idx = np.random.choice(NUM_TEST)\n",
    "img, img_next, img_next_pred = X_test[idx], X_next_test[idx], x_pred[idx].detach().numpy()\n",
    "\n",
    "fig = plt.figure(figsize=(8,8))\n",
    "\n",
    "fig.add_subplot(1,3,1)\n",
    "plt.imshow(img.transpose(1,2,0))\n",
    "\n",
    "fig.add_subplot(1,3,2)\n",
    "plt.imshow(img_next.transpose(1,2,0))\n",
    "\n",
    "fig.add_subplot(1,3,3)\n",
    "plt.imshow(img_next_pred.transpose(1,2,0))"
   ]
  },
  {
   "cell_type": "code",
   "execution_count": null,
   "metadata": {},
   "outputs": [],
   "source": [
    "\n",
    "\n",
    "\n",
    "\n",
    "\n",
    "\n",
    "\n",
    "\n",
    "\n",
    "\n",
    "\n",
    "\n",
    "\n",
    "\n",
    "\n",
    "\n"
   ]
  }
 ],
 "metadata": {
  "kernelspec": {
   "display_name": "Python 3",
   "language": "python",
   "name": "python3"
  },
  "language_info": {
   "codemirror_mode": {
    "name": "ipython",
    "version": 3
   },
   "file_extension": ".py",
   "mimetype": "text/x-python",
   "name": "python",
   "nbconvert_exporter": "python",
   "pygments_lexer": "ipython3",
   "version": "3.7.5"
  }
 },
 "nbformat": 4,
 "nbformat_minor": 4
}
