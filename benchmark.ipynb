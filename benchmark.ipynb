{
 "cells": [
  {
   "cell_type": "code",
   "execution_count": null,
   "metadata": {},
   "outputs": [],
   "source": [
    "%load_ext autoreload\n",
    "%autoreload 2"
   ]
  },
  {
   "cell_type": "code",
   "execution_count": null,
   "metadata": {},
   "outputs": [],
   "source": [
    "import pdb\n",
    "import numpy as np\n",
    "from scipy import stats\n",
    "import matplotlib.pyplot as plt\n",
    "\n",
    "import h5py\n",
    "\n",
    "import time\n",
    "import random\n",
    "import string\n",
    "from datetime import datetime\n",
    "\n",
    "import torch\n",
    "import torchvision\n",
    "from torch import nn\n",
    "from torch.autograd import Variable\n",
    "from torch.utils.data import DataLoader\n",
    "from torchvision import transforms\n",
    "from torchvision.utils import save_image\n",
    "from torchvision.datasets import MNIST\n",
    "import torch.optim as optim\n",
    "import os\n",
    "\n",
    "import math\n",
    "import seaborn as sns\n",
    "sns.set(font_scale=2., font=\"serif\", style=\"whitegrid\")\n",
    "import pandas as pd\n",
    "\n",
    "from mie2c.e2c import E2C, compute_loss, PWATransition\n",
    "from mie2c.ball_model import (get_ball_encoder, get_ball_decoder,\n",
    "    get_ball_transition, get_ball_linear_transition, get_ball_pwa_transition)"
   ]
  },
  {
   "cell_type": "markdown",
   "metadata": {},
   "source": [
    "### Method to create (3,32,32) tensor"
   ]
  },
  {
   "cell_type": "code",
   "execution_count": null,
   "metadata": {},
   "outputs": [],
   "source": [
    "def create_img(X, pos_bounds, radius=0.5, W=32):\n",
    "    x, y, vx, vy = X\n",
    "\n",
    "    # Check if center of ball outside image frame\n",
    "    if x < pos_bounds[0] or x > pos_bounds[1]:\n",
    "        return None\n",
    "    elif y < pos_bounds[0] or y > pos_bounds[1]:\n",
    "        return None\n",
    "\n",
    "    x_px = int(round(W * x / posbounds[1]))\n",
    "    y_px = int(round(W * y / posbounds[1]))\n",
    "    r_px = int(round(radius / pos_bounds[1] * W))\n",
    "\n",
    "    # Check if perimeter of ball outside image frame\n",
    "    if x_px+r_px > W or x_px-r_px < 0:\n",
    "        return None\n",
    "    elif y_px+r_px > W or y_px-r_px < 0:\n",
    "        return None\n",
    "\n",
    "    img = np.ones((3,W,W))\n",
    "    yy,xx = np.mgrid[:W, :W]\n",
    "    circle = (xx-x_px)**2 + (yy-y_px)**2\n",
    "    img[:, circle < r_px**2] = 0.\n",
    "\n",
    "    th = np.arctan2(vy,vx)\n",
    "    for rr in range(r_px):\n",
    "        img[0,int(y_px+rr*np.sin(th)), int(x_px+rr*np.cos(th))] = 1.\n",
    "\n",
    "    return img"
   ]
  },
  {
   "cell_type": "markdown",
   "metadata": {},
   "source": [
    "### PWA single integrator kinematics"
   ]
  },
  {
   "cell_type": "code",
   "execution_count": null,
   "metadata": {},
   "outputs": [],
   "source": [
    "def step(x0, Ak, add_noise=False):\n",
    "    update = Ak @ x0\n",
    "    if add_noise:\n",
    "        mn = np.array([0.1, 0.1])\n",
    "        cov = np.diag([0.05, 0.05])\n",
    "        frzn = stats.multivariate_normal(mn, cov)\n",
    "        update += frzn.rvs(1)\n",
    "    return update"
   ]
  },
  {
   "cell_type": "markdown",
   "metadata": {},
   "source": [
    "### Generate training data"
   ]
  },
  {
   "cell_type": "code",
   "execution_count": null,
   "metadata": {},
   "outputs": [],
   "source": [
    "n = 4 \n",
    "dh = 0.05\n",
    "\n",
    "posbounds = np.array([0,4]) # 4x4m square\n",
    "velmax = 10.\n",
    "\n",
    "Ak = np.eye(n)\n",
    "Ak[0:int(n/2), int(n/2):] = dh * np.eye(int(n/2))\n",
    "\n",
    "np.random.seed(12)\n",
    "\n",
    "W = 32\n",
    "\n",
    "# Training data\n",
    "NUM_DATA = 500\n",
    "\n",
    "X = np.zeros((NUM_DATA,3,W,W))\n",
    "X_next = np.zeros((NUM_DATA,3,W,W))\n",
    "\n",
    "count = 0\n",
    "while count < NUM_DATA:\n",
    "    x0 = np.hstack((posbounds[1] * np.random.rand(2), velmax*np.ones(2)))\n",
    "\n",
    "    if x0[0] < .5 * posbounds[1]:\n",
    "        x0[2] *= -1.\n",
    "    \n",
    "    img = create_img(x0, posbounds)\n",
    "    if img is None:\n",
    "        continue\n",
    "\n",
    "    x0_new = step(x0, Ak)\n",
    "    img_new = create_img(x0_new, posbounds)\n",
    "    if img_new is None:\n",
    "        continue\n",
    "\n",
    "    X[count,:,:,:] = img\n",
    "    X_next[count,:,:,:] = img_new\n",
    "\n",
    "    count += 1\n",
    "\n",
    "# Test data\n",
    "NUM_TEST = 100\n",
    "\n",
    "X_test = np.zeros((NUM_TEST,3,W,W))\n",
    "X_next_test = np.zeros((NUM_TEST,3,W,W))\n",
    "\n",
    "count = 0\n",
    "while count < NUM_TEST:\n",
    "    x0 = np.hstack((posbounds[1] * np.random.rand(2), velmax*np.ones(2)))\n",
    "\n",
    "    if x0[0] < .5 * posbounds[1]:\n",
    "        x0[2] *= -1.\n",
    "    \n",
    "    img = create_img(x0, posbounds)\n",
    "    if img is None:\n",
    "        continue\n",
    "\n",
    "    x0_new = step(x0, Ak)\n",
    "    img_new = create_img(x0_new, posbounds)\n",
    "    if img_new is None:\n",
    "        continue\n",
    "\n",
    "    X_test[count,:,:,:] = img\n",
    "    X_next_test[count,:,:,:] = img_new\n",
    "\n",
    "    count += 1"
   ]
  },
  {
   "cell_type": "code",
   "execution_count": null,
   "metadata": {},
   "outputs": [],
   "source": [
    "idx = np.random.choice(NUM_DATA)\n",
    "img, img_next = X[idx], X_next[idx]\n",
    "\n",
    "plt.style.use('default')\n",
    "fig = plt.figure(figsize=(8,8))\n",
    "\n",
    "fig.add_subplot(1,2,1)\n",
    "plt.imshow(img.transpose(1,2,0))\n",
    "\n",
    "fig.add_subplot(1,2,2)\n",
    "plt.imshow(img_next.transpose(1,2,0))"
   ]
  },
  {
   "cell_type": "code",
   "execution_count": null,
   "metadata": {},
   "outputs": [],
   "source": [
    "dim_in = X[0].shape\n",
    "dim_z = 4\n",
    "dim_u = 0\n",
    "use_cuda = True"
   ]
  },
  {
   "cell_type": "markdown",
   "metadata": {},
   "source": [
    "# Training method"
   ]
  },
  {
   "cell_type": "code",
   "execution_count": null,
   "metadata": {},
   "outputs": [],
   "source": [
    "def train_vae(model, X, X_next, model_name, verbose=True, cuda=False):\n",
    "    if not os.path.exists('pytorch'):\n",
    "        os.makedirs('pytorch')\n",
    "    fn_pt_model = 'pytorch/{}.pt'.format(model_name)\n",
    "    dim_u = model.trans.dim_u\n",
    "\n",
    "    # training parameters\n",
    "    TRAINING_ITERATIONS = int(5000)\n",
    "    BATCH_SIZE = int(64)\n",
    "    CHECKPOINT_AFTER = int(1250)\n",
    "    SAVEPOINT_AFTER = int(2500)\n",
    "\n",
    "    KL_LAMBDA = .25\n",
    "    TEMP_LAMBDA = 10.\n",
    "\n",
    "    if cuda:\n",
    "        dataset = torch.utils.data.TensorDataset(torch.tensor(X).float().to(\"cuda\"), \\\n",
    "                                                 torch.tensor(X_next).float().to(\"cuda\"))\n",
    "        model = model.to(\"cuda\")\n",
    "    else:\n",
    "        dataset = torch.utils.data.TensorDataset(torch.tensor(X).float(), \\\n",
    "                                                 torch.tensor(X_next).float())    \n",
    "    dataloader = torch.utils.data.DataLoader(dataset, batch_size=BATCH_SIZE, shuffle=True)\n",
    "    optimizer = optim.Adam(model.parameters())\n",
    "\n",
    "    itr = 0\n",
    "    for epoch in range(TRAINING_ITERATIONS):\n",
    "        iter_count = 0\n",
    "        for x, x_next in dataloader:\n",
    "            optimizer.zero_grad()\n",
    "            action = torch.empty(NUM_DATA, dim_u)\n",
    "\n",
    "            model(x, action, x_next)\n",
    "            elbo_loss, kl_loss = compute_loss(model.x_dec, model.x_next_dec, model.x_next_pred_dec,\n",
    "                                              x, x_next,\n",
    "                                              model.Qz, model.Qz_next, model.Qz_next_pred)\n",
    "            loss = elbo_loss + KL_LAMBDA * kl_loss\n",
    "            if isinstance(model.trans, PWATransition):\n",
    "                loss += TEMP_LAMBDA * model.trans.temperature.pow(2)[0]\n",
    "            \n",
    "            loss.backward()\n",
    "            optimizer.step()\n",
    "\n",
    "            if itr % CHECKPOINT_AFTER == 0:\n",
    "                print('Avg. loss: {}'.format(loss.item()))\n",
    "\n",
    "            if itr % SAVEPOINT_AFTER == 0:\n",
    "                torch.save(model.state_dict(), fn_pt_model)\n",
    "\n",
    "            iter_count += 1\n",
    "            itr += 1\n",
    "            \n",
    "    if cuda:\n",
    "        model = model.to(\"cpu\")          \n",
    "        torch.cuda.empty_cache()\n",
    "    del dataset\n",
    "        \n",
    "    torch.save(model.state_dict(), fn_pt_model)"
   ]
  },
  {
   "cell_type": "markdown",
   "metadata": {},
   "source": [
    "# E2C Transition"
   ]
  },
  {
   "cell_type": "code",
   "execution_count": null,
   "metadata": {},
   "outputs": [],
   "source": [
    "encoder = get_ball_encoder(dim_in, dim_z)\n",
    "e2c_transition = get_ball_transition(dim_z, dim_u)\n",
    "decoder = get_ball_decoder(dim_z, dim_in)\n",
    "\n",
    "fn_e2c = 'model_e2c'\n",
    "model_e2c = E2C(encoder, e2c_transition, decoder)\n",
    "\n",
    "# if os.path.exists('pytorch/{}.pt'.format(fn_e2c)):\n",
    "#     model_e2c.load_state_dict(torch.load('pytorch/{}.pt'.format(fn_e2c)))"
   ]
  },
  {
   "cell_type": "code",
   "execution_count": null,
   "metadata": {
    "jupyter": {
     "outputs_hidden": true
    }
   },
   "outputs": [],
   "source": [
    "train_vae(model_e2c, X, X_next, fn_e2c, verbose=True, cuda=use_cuda)"
   ]
  },
  {
   "cell_type": "markdown",
   "metadata": {},
   "source": [
    "# Linear Transition"
   ]
  },
  {
   "cell_type": "code",
   "execution_count": null,
   "metadata": {},
   "outputs": [],
   "source": [
    "use_low_rank = False  # True if A = I + r*v^T\n",
    "\n",
    "encoder = get_ball_encoder(dim_in, dim_z)\n",
    "lin_transition = get_ball_linear_transition(dim_z, dim_u, low_rank=use_low_rank)\n",
    "decoder = get_ball_decoder(dim_z, dim_in) \n",
    "\n",
    "fn_lin = 'model_lin'\n",
    "model_lin = E2C(encoder, lin_transition, decoder)\n",
    "\n",
    "# if os.path.exists('pytorch/{}.pt'.format(fn_lin)):\n",
    "#     model_lin.load_state_dict(torch.load('pytorch/{}.pt'.format(fn_lin)))"
   ]
  },
  {
   "cell_type": "code",
   "execution_count": null,
   "metadata": {
    "jupyter": {
     "outputs_hidden": true
    }
   },
   "outputs": [],
   "source": [
    "train_vae(model_lin, X, X_next, fn_lin, verbose=True, cuda=use_cuda)"
   ]
  },
  {
   "cell_type": "markdown",
   "metadata": {},
   "source": [
    "# PWA Transition"
   ]
  },
  {
   "cell_type": "code",
   "execution_count": null,
   "metadata": {},
   "outputs": [],
   "source": [
    "use_low_rank = False  # True if A = I + r*v^T\n",
    "num_modes = 2\n",
    "\n",
    "encoder = get_ball_encoder(dim_in, dim_z)\n",
    "pwa_transition = get_ball_pwa_transition(num_modes, dim_z, dim_u, low_rank=use_low_rank)\n",
    "decoder = get_ball_decoder(dim_z, dim_in) \n",
    "\n",
    "fn_pwa = 'model_pwa'\n",
    "model_pwa = E2C(encoder, pwa_transition, decoder)\n",
    "\n",
    "# if os.path.exists('pytorch/{}.pt'.format(fn_pwa)):\n",
    "#     model_pwa.load_state_dict(torch.load('pytorch/{}.pt'.format(fn_pwa)))"
   ]
  },
  {
   "cell_type": "code",
   "execution_count": null,
   "metadata": {
    "jupyter": {
     "outputs_hidden": true
    }
   },
   "outputs": [],
   "source": [
    "train_vae(model_pwa, X, X_next, fn_pwa, verbose=True, cuda=use_cuda)"
   ]
  },
  {
   "cell_type": "code",
   "execution_count": null,
   "metadata": {},
   "outputs": [],
   "source": [
    "model_pwa.trans.temperature"
   ]
  },
  {
   "cell_type": "markdown",
   "metadata": {},
   "source": [
    "# Evaluation"
   ]
  },
  {
   "cell_type": "code",
   "execution_count": null,
   "metadata": {},
   "outputs": [],
   "source": [
    "x_pred_e2c = model_e2c.predict(torch.tensor(X_test).float(), torch.empty(NUM_TEST,1).float())\n",
    "l2_err_e2c = (x_pred_e2c - torch.tensor(X_test)).pow(2).sum(axis=1).sum(axis=1).sum(axis=1).pow(0.5).detach().cpu().numpy()\n",
    "\n",
    "x_pred_lin = model_lin.predict(torch.tensor(X_test).float(), torch.empty(NUM_TEST,1).float())\n",
    "l2_err_lin = (x_pred_lin - torch.tensor(X_test)).pow(2).sum(axis=1).sum(axis=1).sum(axis=1).pow(0.5).detach().cpu().numpy()\n",
    "\n",
    "x_pred_pwa = model_pwa.predict(torch.tensor(X_test).float(), torch.empty(NUM_TEST,1).float())\n",
    "l2_err_pwa = (x_pred_pwa - torch.tensor(X_test)).pow(2).sum(axis=1).sum(axis=1).sum(axis=1).pow(0.5).detach().cpu().numpy()\n",
    "\n",
    "print(\"e2c: \" + str(l2_err_e2c.mean()))\n",
    "print(\"linear: \" + str(l2_err_lin.mean()))\n",
    "print(\"pwa: \" + str(l2_err_pwa.mean()))"
   ]
  },
  {
   "cell_type": "code",
   "execution_count": null,
   "metadata": {},
   "outputs": [],
   "source": [
    "results = {'E2C':l2_err_e2c, 'Linear':l2_err_lin, 'PWA':l2_err_pwa}\n",
    "results = pd.DataFrame(results)\n",
    "\n",
    "ax1 = sns.boxplot(data=results, palette=\"Set3\")\n",
    "ax1.set(xlabel=\"\", ylabel=\"Reconstruction Loss\")\n",
    "\n",
    "plt.tight_layout()\n",
    "plt.ylim(0, int(math.ceil(np.max(np.maximum(l2_err_lin, l2_err_e2c, l2_err_pwa)) / 10.0)) * 10)\n",
    "\n",
    "figure = ax1.get_figure()\n",
    "figure.savefig(\"loss.pdf\")"
   ]
  },
  {
   "cell_type": "code",
   "execution_count": null,
   "metadata": {},
   "outputs": [],
   "source": [
    "plt.style.use('default')\n",
    "fig = plt.figure(figsize=(10,12))\n",
    "\n",
    "N = 4\n",
    "for i in range(N):\n",
    "    idx = np.random.choice(NUM_TEST)\n",
    "\n",
    "    fig.add_subplot(N+1,4,i*4+1)\n",
    "    if i == 0:\n",
    "        plt.title(\"Ground Truth\")\n",
    "    plt.imshow(X_next_test[idx].transpose(1,2,0))\n",
    "\n",
    "    fig.add_subplot(N+1,4,i*4+2)\n",
    "    if i == 0:\n",
    "        plt.title(\"E2C Prediction\")\n",
    "    plt.imshow(x_pred_e2c[idx].detach().numpy().transpose(1,2,0))\n",
    "\n",
    "    fig.add_subplot(N+1,4,i*4+3)\n",
    "    if i == 0:\n",
    "        plt.title(\"Linear Prediction\")\n",
    "    plt.imshow(x_pred_lin[idx].detach().numpy().transpose(1,2,0))\n",
    "\n",
    "    fig.add_subplot(N+1,4,i*4+4)\n",
    "    if i == 0:\n",
    "        plt.title(\"PWA Prediction\")\n",
    "    plt.imshow(x_pred_pwa[idx].detach().numpy().transpose(1,2,0))\n",
    "\n",
    "fig.savefig(\"predictions.pdf\")"
   ]
  }
 ],
 "metadata": {
  "kernelspec": {
   "display_name": "env",
   "language": "python",
   "name": "env"
  },
  "language_info": {
   "codemirror_mode": {
    "name": "ipython",
    "version": 3
   },
   "file_extension": ".py",
   "mimetype": "text/x-python",
   "name": "python",
   "nbconvert_exporter": "python",
   "pygments_lexer": "ipython3",
   "version": "3.6.9"
  }
 },
 "nbformat": 4,
 "nbformat_minor": 4
}
