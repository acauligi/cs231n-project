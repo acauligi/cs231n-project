{
 "cells": [
  {
   "cell_type": "code",
   "execution_count": 8,
   "metadata": {},
   "outputs": [
    {
     "name": "stdout",
     "output_type": "stream",
     "text": [
      "The autoreload extension is already loaded. To reload it, use:\n",
      "  %reload_ext autoreload\n"
     ]
    }
   ],
   "source": [
    "%load_ext autoreload\n",
    "%autoreload 2"
   ]
  },
  {
   "cell_type": "code",
   "execution_count": 9,
   "metadata": {},
   "outputs": [],
   "source": [
    "import pdb\n",
    "import numpy as np\n",
    "from scipy import stats\n",
    "import matplotlib.pyplot as plt\n",
    "\n",
    "import h5py\n",
    "\n",
    "import time\n",
    "import random\n",
    "import string\n",
    "from datetime import datetime\n",
    "\n",
    "import torch\n",
    "import torchvision\n",
    "from torch import nn\n",
    "from torch.autograd import Variable\n",
    "from torch.utils.data import DataLoader\n",
    "from torchvision import transforms\n",
    "from torchvision.utils import save_image\n",
    "from torchvision.datasets import MNIST\n",
    "import torch.optim as optim\n",
    "import os\n",
    "\n",
    "import math\n",
    "import seaborn as sns\n",
    "sns.set(font_scale=2., font=\"serif\", style=\"whitegrid\")\n",
    "import pandas as pd\n",
    "\n",
    "from mie2c.e2c import E2C, compute_loss, PWATransition\n",
    "from mie2c.bounce_model import (get_bounce_encoder, get_bounce_decoder,\n",
    "    get_bounce_transition, get_bounce_linear_transition, get_bounce_pwa_transition)"
   ]
  },
  {
   "cell_type": "code",
   "execution_count": 3,
   "metadata": {},
   "outputs": [],
   "source": [
    "def create_img(X, pos_bounds, radius=0.5, W=32):\n",
    "    x, y, vx, vy = X\n",
    "\n",
    "    # Check if center of ball outside image frame\n",
    "    if x < pos_bounds[0] or x > pos_bounds[1]:\n",
    "        return None\n",
    "    elif y < pos_bounds[0] or y > pos_bounds[1]:\n",
    "        return None\n",
    "\n",
    "    x_px = int(round(W * x / posbounds[1]))\n",
    "    y_px = int(round(W * y / posbounds[1]))\n",
    "    r_px = int(round(radius / pos_bounds[1] * W))\n",
    "\n",
    "    # Check if perimeter of ball outside image frame\n",
    "    if x_px+r_px > W or x_px-r_px < 0:\n",
    "        return None\n",
    "    elif y_px+r_px > W or y_px-r_px < 0:\n",
    "        return None\n",
    "\n",
    "    img = np.ones((3,W,W))\n",
    "    yy,xx = np.mgrid[:W, :W]\n",
    "    circle = (xx-x_px)**2 + (yy-y_px)**2\n",
    "    img[:, circle < r_px**2] = 0.\n",
    "\n",
    "    th = np.arctan2(vy,vx)\n",
    "    for rr in range(r_px):\n",
    "        img[0,int(y_px+rr*np.sin(th)), int(x_px+rr*np.cos(th))] = 1.\n",
    "\n",
    "    return img"
   ]
  },
  {
   "cell_type": "code",
   "execution_count": 4,
   "metadata": {},
   "outputs": [],
   "source": [
    "def step(x0, Ak, posbounds, rd, add_noise=False):\n",
    "    # x0: 4D vector (x,y,xd,yd)\n",
    "    # Ak: 4x4 transition matrix\n",
    "    # posbounds: [min,max] for x and y\n",
    "    update = Ak @ x0\n",
    "\n",
    "    if add_noise:\n",
    "        mn = np.array([0.1, 0.1])\n",
    "        cov = np.diag([0.05, 0.05])\n",
    "        frzn = stats.multivariate_normal(mn, cov)\n",
    "        update += frzn.rvs(1)\n",
    "\n",
    "    # Bounce the ball if needed\n",
    "    if update[0]-rd <= posbounds[0]:\n",
    "        update[0] = posbounds[0]+rd\n",
    "        update[2] *= -1.\n",
    "    elif update[0]+rd >= posbounds[1]:\n",
    "        update[0] = posbounds[1]-rd\n",
    "        update[2] *= -1.\n",
    "\n",
    "    if update[1]-rd <= posbounds[0]:\n",
    "        update[1] = posbounds[0]+rd\n",
    "        update[3] *= -1.\n",
    "    elif update[1]+rd >= posbounds[1]:\n",
    "        update[1] = posbounds[1]-rd\n",
    "        update[3] *= -1.\n",
    "\n",
    "    return update"
   ]
  },
  {
   "cell_type": "code",
   "execution_count": 5,
   "metadata": {},
   "outputs": [],
   "source": [
    "n = 4 \n",
    "dh = 0.05\n",
    "\n",
    "rd = 0.5\n",
    "posbounds = np.array([0,4]) # 4x4m square\n",
    "velmax = 10.\n",
    "\n",
    "Ak = np.eye(n)\n",
    "Ak[0:int(n/2), int(n/2):] = dh * np.eye(int(n/2))\n",
    "\n",
    "np.random.seed(12)\n",
    "\n",
    "W = 128\n",
    "\n",
    "# Training data\n",
    "NUM_DATA = 500\n",
    "NUM_STEPS = 10\n",
    "\n",
    "X = np.zeros((NUM_DATA,3,W,W))\n",
    "X_next = np.zeros((NUM_DATA,3,W,W))\n",
    "\n",
    "count, update_count = 0, 0\n",
    "while count < NUM_DATA:\n",
    "    if update_count % NUM_STEPS == 0:\n",
    "        # Restart episode\n",
    "        x0 = np.hstack((posbounds[1] * np.random.rand(2), velmax*np.ones(2)))\n",
    "        update_count = 0\n",
    "\n",
    "    img = create_img(x0, posbounds, radius=rd, W=W)\n",
    "    if img is None:\n",
    "        update_count = 0\n",
    "        continue\n",
    "\n",
    "    x0_new = step(x0, Ak, posbounds, rd)\n",
    "    img_new = create_img(x0_new, posbounds, radius=rd, W=W)\n",
    "    if img_new is None:\n",
    "        update_count = 0\n",
    "        continue\n",
    "\n",
    "    X[count,:,:,:] = img\n",
    "    X_next[count,:,:,:] = img_new\n",
    "\n",
    "    x0 = np.copy(x0_new)\n",
    "    count += 1\n",
    "    update_count += 1\n",
    "    \n",
    "# Training data\n",
    "NUM_TEST = 100\n",
    "\n",
    "X_test = np.zeros((NUM_TEST,3,W,W))\n",
    "X_next_test = np.zeros((NUM_TEST,3,W,W))\n",
    "\n",
    "count, update_count = 0, 0\n",
    "while count < NUM_TEST:\n",
    "    if update_count % NUM_STEPS == 0:\n",
    "        # Restart episode\n",
    "        x0 = np.hstack((posbounds[1] * np.random.rand(2), velmax*np.ones(2)))\n",
    "        update_count = 0\n",
    "\n",
    "    img = create_img(x0, posbounds, radius=rd, W=W)\n",
    "    if img is None:\n",
    "        update_count = 0\n",
    "        continue\n",
    "\n",
    "    x0_new = step(x0, Ak, posbounds, rd)\n",
    "    img_new = create_img(x0_new, posbounds, radius=rd, W=W)\n",
    "    if img_new is None:\n",
    "        update_count = 0\n",
    "        continue\n",
    "\n",
    "    X_test[count,:,:,:] = img\n",
    "    X_next_test[count,:,:,:] = img_new\n",
    "\n",
    "    x0 = np.copy(x0_new)\n",
    "    count += 1\n",
    "    update_count += 1"
   ]
  },
  {
   "cell_type": "code",
   "execution_count": 6,
   "metadata": {},
   "outputs": [
    {
     "data": {
      "text/plain": [
       "<matplotlib.image.AxesImage at 0x7f745069ce10>"
      ]
     },
     "execution_count": 6,
     "metadata": {},
     "output_type": "execute_result"
    },
    {
     "data": {
      "image/png": "[encoded data removed]",
      "text/plain": [
       "<Figure size 576x576 with 2 Axes>"
      ]
     },
     "metadata": {},
     "output_type": "display_data"
    }
   ],
   "source": [
    "idx = 22\n",
    "img, img_next = X[idx], X_next[idx]\n",
    "\n",
    "fig = plt.figure(figsize=(8,8))\n",
    "\n",
    "fig.add_subplot(1,2,1)\n",
    "plt.imshow(img.transpose(1,2,0))\n",
    "\n",
    "fig.add_subplot(1,2,2)\n",
    "plt.imshow(img_next.transpose(1,2,0))"
   ]
  },
  {
   "cell_type": "code",
   "execution_count": 44,
   "metadata": {},
   "outputs": [],
   "source": [
    "dim_in = X[0].shape\n",
    "dim_z = 6\n",
    "dim_u = 0\n",
    "use_cuda = False"
   ]
  },
  {
   "cell_type": "markdown",
   "metadata": {},
   "source": [
    "# Training method"
   ]
  },
  {
   "cell_type": "code",
   "execution_count": 42,
   "metadata": {},
   "outputs": [],
   "source": [
    "def train_vae(model, X, X_next, model_name, verbose=True, cuda=False):\n",
    "    if not os.path.exists('pytorch'):\n",
    "        os.makedirs('pytorch')\n",
    "    fn_pt_model = 'pytorch/{}.pt'.format(model_name)\n",
    "    dim_u = model.trans.dim_u\n",
    "\n",
    "    # training parameters\n",
    "    TRAINING_ITERATIONS = int(5000)\n",
    "    BATCH_SIZE = int(64)\n",
    "    CHECKPOINT_AFTER = int(1250)\n",
    "    SAVEPOINT_AFTER = int(2500)\n",
    "\n",
    "    KL_LAMBDA = .25\n",
    "    TEMP_LAMBDA = 10.\n",
    "\n",
    "    if cuda:\n",
    "        dataset = torch.utils.data.TensorDataset(torch.tensor(X).float().to(\"cuda\"), \\\n",
    "                                                 torch.tensor(X_next).float().to(\"cuda\"))\n",
    "        model = model.to(\"cuda\")\n",
    "    else:\n",
    "        dataset = torch.utils.data.TensorDataset(torch.tensor(X).float(), \\\n",
    "                                                 torch.tensor(X_next).float())    \n",
    "    dataloader = torch.utils.data.DataLoader(dataset, batch_size=BATCH_SIZE, shuffle=True)\n",
    "    optimizer = optim.Adam(model.parameters())\n",
    "\n",
    "    itr = 0\n",
    "    for epoch in range(TRAINING_ITERATIONS):\n",
    "        iter_count = 0\n",
    "        for x, x_next in dataloader:\n",
    "            optimizer.zero_grad()\n",
    "            action = torch.empty(NUM_DATA, dim_u)\n",
    "\n",
    "            model(x, action, x_next)\n",
    "            elbo_loss, kl_loss = compute_loss(model.x_dec, model.x_next_dec, model.x_next_pred_dec,\n",
    "                                              x, x_next,\n",
    "                                              model.Qz, model.Qz_next, model.Qz_next_pred)\n",
    "            loss = elbo_loss + KL_LAMBDA * kl_loss\n",
    "            if isinstance(model.trans, PWATransition):\n",
    "                loss += TEMP_LAMBDA * model.trans.temperature.pow(2)[0]\n",
    "\n",
    "            loss.backward()\n",
    "            optimizer.step()\n",
    "\n",
    "            if itr % CHECKPOINT_AFTER == 0:\n",
    "                print('Avg. loss: {}'.format(loss.item()))\n",
    "\n",
    "            if itr % SAVEPOINT_AFTER == 0:\n",
    "                torch.save(model.state_dict(), fn_pt_model)\n",
    "\n",
    "            iter_count += 1\n",
    "            itr += 1\n",
    "\n",
    "    if cuda:\n",
    "        model = model.to(\"cpu\")          \n",
    "        torch.cuda.empty_cache()\n",
    "    del dataset\n",
    "\n",
    "    torch.save(model.state_dict(), fn_pt_model)"
   ]
  },
  {
   "cell_type": "markdown",
   "metadata": {},
   "source": [
    "# E2C Transition"
   ]
  },
  {
   "cell_type": "code",
   "execution_count": 45,
   "metadata": {},
   "outputs": [],
   "source": [
    "encoder = get_bounce_encoder(dim_in, dim_z)\n",
    "e2c_transition = get_bounce_transition(dim_z, dim_u)\n",
    "decoder = get_bounce_decoder(dim_z, dim_in)\n",
    "\n",
    "fn_e2c = 'model_e2c'\n",
    "model_e2c = E2C(encoder, e2c_transition, decoder)\n",
    "\n",
    "# if os.path.exists('pytorch/{}.pt'.format(fn_e2c)):\n",
    "#     model_e2c.load_state_dict(torch.load('pytorch/{}.pt'.format(fn_e2c)))"
   ]
  },
  {
   "cell_type": "code",
   "execution_count": 46,
   "metadata": {},
   "outputs": [
    {
     "name": "stdout",
     "output_type": "stream",
     "text": [
      "Avg. loss: 39267.39365601242\n"
     ]
    },
    {
     "ename": "KeyboardInterrupt",
     "evalue": "",
     "output_type": "error",
     "traceback": [
      "\u001b[0;31m---------------------------------------------------------------------------\u001b[0m",
      "\u001b[0;31mKeyboardInterrupt\u001b[0m                         Traceback (most recent call last)",
      "\u001b[0;32m<ipython-input-46-c9633dc1efa0>\u001b[0m in \u001b[0;36m<module>\u001b[0;34m\u001b[0m\n\u001b[0;32m----> 1\u001b[0;31m \u001b[0mtrain_vae\u001b[0m\u001b[0;34m(\u001b[0m\u001b[0mmodel_e2c\u001b[0m\u001b[0;34m,\u001b[0m \u001b[0mX\u001b[0m\u001b[0;34m,\u001b[0m \u001b[0mX_next\u001b[0m\u001b[0;34m,\u001b[0m \u001b[0mfn_e2c\u001b[0m\u001b[0;34m,\u001b[0m \u001b[0mverbose\u001b[0m\u001b[0;34m=\u001b[0m\u001b[0;32mTrue\u001b[0m\u001b[0;34m,\u001b[0m \u001b[0mcuda\u001b[0m\u001b[0;34m=\u001b[0m\u001b[0muse_cuda\u001b[0m\u001b[0;34m)\u001b[0m\u001b[0;34m\u001b[0m\u001b[0m\n\u001b[0m",
      "\u001b[0;32m<ipython-input-42-97d4b73a509b>\u001b[0m in \u001b[0;36mtrain_vae\u001b[0;34m(model, X, X_next, model_name, verbose, cuda)\u001b[0m\n\u001b[1;32m     39\u001b[0m                 \u001b[0mloss\u001b[0m \u001b[0;34m+=\u001b[0m \u001b[0mTEMP_LAMBDA\u001b[0m \u001b[0;34m*\u001b[0m \u001b[0mmodel\u001b[0m\u001b[0;34m.\u001b[0m\u001b[0mtrans\u001b[0m\u001b[0;34m.\u001b[0m\u001b[0mtemperature\u001b[0m\u001b[0;34m.\u001b[0m\u001b[0mpow\u001b[0m\u001b[0;34m(\u001b[0m\u001b[0;36m2\u001b[0m\u001b[0;34m)\u001b[0m\u001b[0;34m[\u001b[0m\u001b[0;36m0\u001b[0m\u001b[0;34m]\u001b[0m\u001b[0;34m\u001b[0m\u001b[0m\n\u001b[1;32m     40\u001b[0m \u001b[0;34m\u001b[0m\u001b[0m\n\u001b[0;32m---> 41\u001b[0;31m             \u001b[0mloss\u001b[0m\u001b[0;34m.\u001b[0m\u001b[0mbackward\u001b[0m\u001b[0;34m(\u001b[0m\u001b[0;34m)\u001b[0m\u001b[0;34m\u001b[0m\u001b[0m\n\u001b[0m\u001b[1;32m     42\u001b[0m             \u001b[0moptimizer\u001b[0m\u001b[0;34m.\u001b[0m\u001b[0mstep\u001b[0m\u001b[0;34m(\u001b[0m\u001b[0;34m)\u001b[0m\u001b[0;34m\u001b[0m\u001b[0m\n\u001b[1;32m     43\u001b[0m \u001b[0;34m\u001b[0m\u001b[0m\n",
      "\u001b[0;32m~/cs_231n/cs231n-project/cs231n_project/lib/python3.6/site-packages/torch/tensor.py\u001b[0m in \u001b[0;36mbackward\u001b[0;34m(self, gradient, retain_graph, create_graph)\u001b[0m\n\u001b[1;32m    196\u001b[0m                 \u001b[0mproducts\u001b[0m\u001b[0;34m.\u001b[0m \u001b[0mDefaults\u001b[0m \u001b[0mto\u001b[0m\u001b[0;31m \u001b[0m\u001b[0;31m`\u001b[0m\u001b[0;31m`\u001b[0m\u001b[0;32mFalse\u001b[0m\u001b[0;31m`\u001b[0m\u001b[0;31m`\u001b[0m\u001b[0;34m.\u001b[0m\u001b[0;34m\u001b[0m\u001b[0m\n\u001b[1;32m    197\u001b[0m         \"\"\"\n\u001b[0;32m--> 198\u001b[0;31m         \u001b[0mtorch\u001b[0m\u001b[0;34m.\u001b[0m\u001b[0mautograd\u001b[0m\u001b[0;34m.\u001b[0m\u001b[0mbackward\u001b[0m\u001b[0;34m(\u001b[0m\u001b[0mself\u001b[0m\u001b[0;34m,\u001b[0m \u001b[0mgradient\u001b[0m\u001b[0;34m,\u001b[0m \u001b[0mretain_graph\u001b[0m\u001b[0;34m,\u001b[0m \u001b[0mcreate_graph\u001b[0m\u001b[0;34m)\u001b[0m\u001b[0;34m\u001b[0m\u001b[0m\n\u001b[0m\u001b[1;32m    199\u001b[0m \u001b[0;34m\u001b[0m\u001b[0m\n\u001b[1;32m    200\u001b[0m     \u001b[0;32mdef\u001b[0m \u001b[0mregister_hook\u001b[0m\u001b[0;34m(\u001b[0m\u001b[0mself\u001b[0m\u001b[0;34m,\u001b[0m \u001b[0mhook\u001b[0m\u001b[0;34m)\u001b[0m\u001b[0;34m:\u001b[0m\u001b[0;34m\u001b[0m\u001b[0m\n",
      "\u001b[0;32m~/cs_231n/cs231n-project/cs231n_project/lib/python3.6/site-packages/torch/autograd/__init__.py\u001b[0m in \u001b[0;36mbackward\u001b[0;34m(tensors, grad_tensors, retain_graph, create_graph, grad_variables)\u001b[0m\n\u001b[1;32m     98\u001b[0m     Variable._execution_engine.run_backward(\n\u001b[1;32m     99\u001b[0m         \u001b[0mtensors\u001b[0m\u001b[0;34m,\u001b[0m \u001b[0mgrad_tensors\u001b[0m\u001b[0;34m,\u001b[0m \u001b[0mretain_graph\u001b[0m\u001b[0;34m,\u001b[0m \u001b[0mcreate_graph\u001b[0m\u001b[0;34m,\u001b[0m\u001b[0;34m\u001b[0m\u001b[0m\n\u001b[0;32m--> 100\u001b[0;31m         allow_unreachable=True)  # allow_unreachable flag\n\u001b[0m\u001b[1;32m    101\u001b[0m \u001b[0;34m\u001b[0m\u001b[0m\n\u001b[1;32m    102\u001b[0m \u001b[0;34m\u001b[0m\u001b[0m\n",
      "\u001b[0;31mKeyboardInterrupt\u001b[0m: "
     ]
    }
   ],
   "source": [
    "train_vae(model_e2c, X, X_next, fn_e2c, verbose=True, cuda=use_cuda)"
   ]
  },
  {
   "cell_type": "markdown",
   "metadata": {},
   "source": [
    "# Linear Transition"
   ]
  },
  {
   "cell_type": "code",
   "execution_count": null,
   "metadata": {},
   "outputs": [],
   "source": [
    "use_low_rank = False  # True if A = I + r*v^T\n",
    "\n",
    "encoder = get_ball_encoder(dim_in, dim_z)\n",
    "lin_transition = get_ball_linear_transition(dim_z, dim_u, low_rank=use_low_rank)\n",
    "decoder = get_ball_decoder(dim_z, dim_in) \n",
    "\n",
    "fn_lin = 'model_lin'\n",
    "model_lin = E2C(encoder, lin_transition, decoder)\n",
    "\n",
    "# if os.path.exists('pytorch/{}.pt'.format(fn_lin)):\n",
    "#     model_lin.load_state_dict(torch.load('pytorch/{}.pt'.format(fn_lin)))"
   ]
  },
  {
   "cell_type": "code",
   "execution_count": null,
   "metadata": {},
   "outputs": [],
   "source": [
    "train_vae(model_lin, X, X_next, fn_lin, verbose=True, cuda=use_cuda)"
   ]
  },
  {
   "cell_type": "markdown",
   "metadata": {},
   "source": [
    "# PWA Transition"
   ]
  },
  {
   "cell_type": "code",
   "execution_count": null,
   "metadata": {},
   "outputs": [],
   "source": [
    "use_low_rank = False  # True if A = I + r*v^T\n",
    "num_modes = 2\n",
    "\n",
    "encoder = get_ball_encoder(dim_in, dim_z)\n",
    "pwa_transition = get_ball_pwa_transition(num_modes, dim_z, dim_u, low_rank=use_low_rank)\n",
    "decoder = get_ball_decoder(dim_z, dim_in) \n",
    "\n",
    "fn_pwa = 'model_pwa'\n",
    "model_pwa = E2C(encoder, pwa_transition, decoder)\n",
    "\n",
    "# if os.path.exists('pytorch/{}.pt'.format(fn_pwa)):\n",
    "#     model_pwa.load_state_dict(torch.load('pytorch/{}.pt'.format(fn_pwa)))"
   ]
  },
  {
   "cell_type": "code",
   "execution_count": null,
   "metadata": {},
   "outputs": [],
   "source": [
    "train_vae(model_pwa, X, X_next, fn_pwa, verbose=True, cuda=use_cuda)"
   ]
  },
  {
   "cell_type": "markdown",
   "metadata": {},
   "source": [
    "# Evaluation"
   ]
  },
  {
   "cell_type": "code",
   "execution_count": null,
   "metadata": {},
   "outputs": [],
   "source": [
    "x_pred_e2c = model_e2c.predict(torch.tensor(X_test).float(), torch.empty(NUM_TEST,1).float())\n",
    "l2_err_e2c = (x_pred_e2c - torch.tensor(X_test)).pow(2).sum(axis=1).sum(axis=1).sum(axis=1).pow(0.5).detach().cpu().numpy()\n",
    "\n",
    "x_pred_lin = model_lin.predict(torch.tensor(X_test).float(), torch.empty(NUM_TEST,1).float())\n",
    "l2_err_lin = (x_pred_lin - torch.tensor(X_test)).pow(2).sum(axis=1).sum(axis=1).sum(axis=1).pow(0.5).detach().cpu().numpy()\n",
    "\n",
    "x_pred_pwa = model_pwa.predict(torch.tensor(X_test).float(), torch.empty(NUM_TEST,1).float())\n",
    "l2_err_pwa = (x_pred_pwa - torch.tensor(X_test)).pow(2).sum(axis=1).sum(axis=1).sum(axis=1).pow(0.5).detach().cpu().numpy()\n",
    "\n",
    "print(\"e2c: \" + str(l2_err_e2c.mean()))\n",
    "print(\"linear: \" + str(l2_err_lin.mean()))\n",
    "print(\"pwa: \" + str(l2_err_pwa.mean()))"
   ]
  },
  {
   "cell_type": "code",
   "execution_count": null,
   "metadata": {},
   "outputs": [],
   "source": [
    "results = {'E2C':l2_err_e2c, 'Linear':l2_err_lin, 'PWA':l2_err_pwa}\n",
    "results = pd.DataFrame(results)\n",
    "\n",
    "ax1 = sns.boxplot(data=results, palette=\"Set3\")\n",
    "ax1.set(xlabel=\"\", ylabel=\"Reconstruction Loss\")\n",
    "\n",
    "plt.tight_layout()\n",
    "plt.ylim(0, int(math.ceil(np.max(np.maximum(l2_err_lin, l2_err_e2c, l2_err_pwa)) / 10.0)) * 10)\n",
    "\n",
    "figure = ax1.get_figure()\n",
    "figure.savefig(\"loss.pdf\")"
   ]
  }
 ],
 "metadata": {
  "kernelspec": {
   "display_name": "cs231n_project",
   "language": "python",
   "name": "cs231n_project"
  },
  "language_info": {
   "codemirror_mode": {
    "name": "ipython",
    "version": 3
   },
   "file_extension": ".py",
   "mimetype": "text/x-python",
   "name": "python",
   "nbconvert_exporter": "python",
   "pygments_lexer": "ipython3",
   "version": "3.6.3"
  }
 },
 "nbformat": 4,
 "nbformat_minor": 2
}
