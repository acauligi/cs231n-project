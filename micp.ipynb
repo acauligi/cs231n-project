{
 "cells": [
  {
   "cell_type": "code",
   "execution_count": null,
   "metadata": {},
   "outputs": [],
   "source": [
    "%load_ext autoreload\n",
    "%autoreload 2"
   ]
  },
  {
   "cell_type": "code",
   "execution_count": null,
   "metadata": {},
   "outputs": [],
   "source": [
    "import pdb\n",
    "import numpy as np\n",
    "from scipy import stats\n",
    "import matplotlib.pyplot as plt\n",
    "\n",
    "import h5py\n",
    "\n",
    "import torch\n",
    "import torchvision\n",
    "from torch import nn\n",
    "from torch.autograd import Variable\n",
    "from torch.utils.data import DataLoader\n",
    "from torchvision import transforms\n",
    "from torchvision.utils import save_image\n",
    "from torchvision.datasets import MNIST\n",
    "import torch.optim as optim\n",
    "import os\n",
    "\n",
    "import cvxpy as cp\n",
    "\n",
    "from mie2c.e2c import E2C, compute_loss, PWATransition, train_vae\n",
    "from mie2c.losses import SigmoidAnneal\n",
    "from mie2c.cartpole_model import (get_cartpole_encoder, get_cartpole_decoder,\n",
    "    get_cartpole_transition, get_cartpole_linear_transition, get_cartpole_pwa_transition)\n",
    "\n",
    "os.environ['CUDA_VISIBLE_DEVICES'] = '0'"
   ]
  },
  {
   "cell_type": "markdown",
   "metadata": {},
   "source": [
    "### Run `python generate_cartpole_data.py N --torque_control` where `N` is the number of desired samples "
   ]
  },
  {
   "cell_type": "code",
   "execution_count": null,
   "metadata": {},
   "outputs": [],
   "source": [
    "# load data generated for the cartpole\n",
    "X0 = np.load('data/cartpole_X0.npy')\n",
    "X_all = np.load('data/cartpole_X.npy')\n",
    "U_all = np.load('data/cartpole_U.npy')\n",
    "X_next_all = np.load('data/cartpole_X_next.npy')\n",
    "\n",
    "# test_ratio = .01\n",
    "# test_indx = int(test_ratio * X_all.shape[0])\n",
    "test_indx = 100\n",
    "\n",
    "X0 = torch.tensor(X0, dtype=torch.float64) / 255.\n",
    "X_test = torch.tensor(X_all[:test_indx, :, :, :], dtype=torch.float64)\n",
    "U_test = torch.tensor(U_all[:test_indx, :], dtype=torch.float64)\n",
    "X_next_test = torch.tensor(X_next_all[:test_indx, :, :, :], dtype=torch.float64)\n",
    "\n",
    "X = torch.tensor(X_all[test_indx:, :, :, :], dtype=torch.float64)\n",
    "U = torch.tensor(U_all[test_indx:, :], dtype=torch.float64)\n",
    "X_next = torch.tensor(X_next_all[test_indx:, :, :, :], dtype=torch.float64)\n",
    "\n",
    "NUM_TEST = X_test.shape[0]\n",
    "NUM_DATA = X.shape[0]\n",
    "\n",
    "dataset = torch.utils.data.TensorDataset(X, U, X_next)"
   ]
  },
  {
   "cell_type": "code",
   "execution_count": null,
   "metadata": {},
   "outputs": [],
   "source": [
    "# convert to grayscale\n",
    "gray_w = [0.3, 0.59, 0.11]\n",
    "def to_gray(Y):\n",
    "    return gray_w[0] * Y[:, 0:1, :, :] + gray_w[1] * Y[:, 1:2, :, :] + gray_w[2] * Y[:, 2:3, :, :]\n",
    "X = to_gray(X)\n",
    "X_next = to_gray(X_next)\n",
    "X_test = to_gray(X_test)\n",
    "X_next_test = to_gray(X_next_test)"
   ]
  },
  {
   "cell_type": "code",
   "execution_count": null,
   "metadata": {},
   "outputs": [],
   "source": [
    "C,W,H = X.shape[1:]"
   ]
  },
  {
   "cell_type": "code",
   "execution_count": null,
   "metadata": {},
   "outputs": [],
   "source": [
    "def show_samples(X_samples, X_next_samples=None):\n",
    "    num_samples = X_samples.shape[0]\n",
    "    fig = plt.figure(figsize=(10,10))\n",
    "    for k in range(num_samples):\n",
    "        if X_next_samples is not None:\n",
    "            fig.add_subplot(num_samples,3,k*3+1)\n",
    "            plt.imshow(X_samples[k,:,:,:].to('cpu').type(torch.uint8).detach().numpy().squeeze(), cmap='gray')\n",
    "            fig.add_subplot(num_samples,3,k*3+2)\n",
    "            plt.imshow(X_next_samples[k,:,:,:].to('cpu').type(torch.uint8).detach().numpy().squeeze(), cmap='gray')\n",
    "        else:\n",
    "            fig.add_subplot(num_samples,2,k*2+1)\n",
    "            plt.imshow(X_samples[k,:,:,:].to('cpu').type(torch.uint8).detach().numpy().squeeze(), cmap='gray')\n",
    "    plt.show()"
   ]
  },
  {
   "cell_type": "code",
   "execution_count": null,
   "metadata": {},
   "outputs": [],
   "source": [
    "idx = [np.random.randint(NUM_DATA)]\n",
    "show_samples(X[idx,:,:,:], X_next[idx,:,:,:])"
   ]
  },
  {
   "cell_type": "markdown",
   "metadata": {},
   "source": [
    "# Train PWA model"
   ]
  },
  {
   "cell_type": "code",
   "execution_count": null,
   "metadata": {
    "collapsed": true,
    "jupyter": {
     "outputs_hidden": true
    }
   },
   "outputs": [],
   "source": [
    "dim_z = 6\n",
    "dim_u = 1\n",
    "use_cuda = False\n",
    "num_epochs = 500\n",
    "batch_size = 2\n",
    "checkpoint_every = 1\n",
    "savepoint_every = 1\n",
    "learning_rate = 5e-4\n",
    "kl_lo = 1e-3\n",
    "kl_up = 1.\n",
    "kl_center_step = 20\n",
    "kl_steps_lo_to_up = 10\n",
    "temp_lo = 1e-3\n",
    "temp_up = 100.\n",
    "temp_center_step = 100\n",
    "temp_steps_lo_to_up = 50\n",
    "use_l2 = False\n",
    "\n",
    "writer = None\n",
    "itr = 0\n",
    "\n",
    "dim_in = X[0].shape\n",
    "kl_lambda = SigmoidAnneal(torch.float32, kl_lo, kl_up, kl_center_step, kl_steps_lo_to_up)\n",
    "temp_lambda = SigmoidAnneal(torch.float32, temp_lo, temp_up, temp_center_step, temp_steps_lo_to_up)\n",
    "\n",
    "use_low_rank = False  # True if A = I + r*v^T\n",
    "num_modes = 3"
   ]
  },
  {
   "cell_type": "code",
   "execution_count": null,
   "metadata": {},
   "outputs": [],
   "source": [
    "encoder = get_cartpole_encoder(dim_in, dim_z)\n",
    "pwa_transition = get_cartpole_pwa_transition(num_modes, dim_z, dim_u, low_rank=use_low_rank)\n",
    "decoder = get_cartpole_decoder(dim_z, dim_in) \n",
    "\n",
    "fn_pwa = 'model_pwa'\n",
    "model_pwa = E2C(encoder, pwa_transition, decoder)\n",
    "\n",
    "# if os.path.exists('pytorch/{}.pt'.format(fn_pwa)):\n",
    "#     model_pwa.load_state_dict(torch.load('pytorch/{}.pt'.format(fn_pwa)))"
   ]
  },
  {
   "cell_type": "code",
   "execution_count": null,
   "metadata": {},
   "outputs": [],
   "source": [
    "writer, itr = train_vae(model_pwa, X, U, X_next, fn_pwa, verbose=True, use_cuda=use_cuda,\n",
    "                        num_epochs=num_epochs, batch_size=batch_size,\n",
    "                        checkpoint_every=checkpoint_every, savepoint_every=savepoint_every,\n",
    "                        learning_rate=learning_rate,\n",
    "                        kl_lambda=kl_lambda, temp_lambda=temp_lambda, use_l2=use_l2,\n",
    "                        writer=writer, itr=itr, device_id=0)"
   ]
  },
  {
   "cell_type": "markdown",
   "metadata": {},
   "source": [
    "# Run MICP controller"
   ]
  },
  {
   "cell_type": "code",
   "execution_count": null,
   "metadata": {},
   "outputs": [],
   "source": [
    "num_modes = len(model_pwa.trans.As)\n",
    "N = 6 # Horizon for controller\n",
    "\n",
    "Aks, Bks, oks = [], [], []\n",
    "Ws, bs = [], []\n",
    "for ii in range(num_modes):\n",
    "    Aks.append(model_pwa.trans.As[0].detach().numpy())\n",
    "    Bks.append(model_pwa.trans.Bs[0].detach().numpy())\n",
    "    oks.append(model_pwa.trans.os[0].detach().numpy().flatten())\n",
    "    Ws.append(model_pwa.trans.mode_classifier.weight[ii].detach().numpy().flatten())\n",
    "    bs.append(model_pwa.trans.mode_classifier.weight[ii].detach().numpy().flatten())"
   ]
  },
  {
   "cell_type": "code",
   "execution_count": null,
   "metadata": {},
   "outputs": [],
   "source": [
    "M = np.maximum((model_pwa.trans.mode_classifier.weight.abs().max() + model_pwa.trans.mode_classifier.bias.abs().max()).detach().numpy(), 1e4)\n",
    "\n",
    "z = cp.Variable((dim_z, N))\n",
    "u = cp.Variable((dim_u, N-1))\n",
    "y = cp.Variable((num_modes, N-1), boolean=True)\n",
    "\n",
    "z0 = cp.Parameter(dim_z)\n",
    "zg = cp.Parameter(dim_z)\n",
    "\n",
    "cons = []\n",
    "\n",
    "# Initial condition\n",
    "cons += [z[:,0] == z0]\n",
    "\n",
    "# Dynamics constraints\n",
    "for ii in range(N-1):\n",
    "    cons += [cp.sum(y[:,ii]) == 1]\n",
    "    for jj in range(num_modes):\n",
    "        Ak, Bk, ok = Aks[jj], Bks[jj], oks[jj]      \n",
    "        cons += [Ak @ z[:,ii] + Bk @ u[:,ii] + ok - z[:,ii+1] <= M*(cp.sum(y[:,ii]) - y[jj,ii])]\n",
    "        cons += [z[:,ii+1] - (Ak @ z[:,ii] + Bk @ u[:,ii] + ok) <= M*(cp.sum(y[:,ii]) - y[jj,ii])]\n",
    "\n",
    "# Piecewise affine constraints\n",
    "for ii in range(num_modes):\n",
    "    w_ii, b_ii = Ws[ii], bs[ii]\n",
    "    for jj in range(num_modes):\n",
    "        if ii == jj:\n",
    "            continue\n",
    "        w_jj, b_jj = Ws[jj], bs[jj]\n",
    "        for kk in range(N-1):\n",
    "            cons += [w_jj @ z[:,kk] + b_jj - (w_ii @ z[:,kk] + b_ii) <= M*(cp.sum(y[:,ii]) - y[jj,ii])]\n",
    "\n",
    "# Control constraints\n",
    "force_max = 10.\n",
    "for ii in range(N-1):\n",
    "    cons += [cp.abs(u[:,ii]) <= force_max]\n",
    "\n",
    "# LQR cost\n",
    "lqr_cost = 0.\n",
    "Q = np.eye(dim_z)\n",
    "R = 0.1\n",
    "for ii in range(1,N):\n",
    "    lqr_cost += cp.quad_form(z[:,ii]-zg, Q)\n",
    "for ii in range(N-1):\n",
    "    lqr_cost += R*cp.abs(u[0,ii])\n",
    "\n",
    "bin_prob = cp.Problem(cp.Minimize(lqr_cost), cons)\n",
    "bin_prob_params = {'z0':z0, 'zg':zg}"
   ]
  },
  {
   "cell_type": "code",
   "execution_count": null,
   "metadata": {},
   "outputs": [],
   "source": [
    "bin_prob_params['z0'].value = model_pwa.encode(X_test[0,:,:,:].unsqueeze(0))[0].detach().numpy().flatten()\n",
    "bin_prob_params['zg'].value = model_pwa.encode(X0[0,:,:,:].unsqueeze(0))[0].detach().numpy().flatten()"
   ]
  },
  {
   "cell_type": "code",
   "execution_count": null,
   "metadata": {},
   "outputs": [],
   "source": [
    "n_rollouts = 10\n",
    "mpc_imgs = torch.zeros((n_rollouts+2,C,W,H))\n",
    "\n",
    "mpc_imgs[0] = X_test[0,:,:,:]\n",
    "mpc_imgs[-1] = X0[0,:,:,:]\n",
    "\n",
    "for ii in range(n_rollouts):\n",
    "    bin_prob.solve(solver=cp.GUROBI)\n",
    "    print(bin_prob.value)\n",
    "    if bin_prob.status not in ['optimal', 'feasible']:\n",
    "        break\n",
    "\n",
    "    img_out = model_pwa.decode(torch.tensor(z.value[:,1], dtype=torch.float).unsqueeze(0))\n",
    "    mpc_imgs[ii+1] = img_out\n",
    "\n",
    "    # Update initial condition for MICP\n",
    "    bin_prob_params['z0'].value = z.value[:,1]"
   ]
  },
  {
   "cell_type": "code",
   "execution_count": null,
   "metadata": {},
   "outputs": [],
   "source": [
    "plt.imshow(mpc_imgs[-1,3:,:,:].to('cpu').type(torch.uint8).detach().numpy().transpose(1,2,0))"
   ]
  },
  {
   "cell_type": "code",
   "execution_count": null,
   "metadata": {},
   "outputs": [],
   "source": []
  }
 ],
 "metadata": {
  "kernelspec": {
   "display_name": "melon",
   "language": "python",
   "name": "melon"
  },
  "language_info": {
   "codemirror_mode": {
    "name": "ipython",
    "version": 3
   },
   "file_extension": ".py",
   "mimetype": "text/x-python",
   "name": "python",
   "nbconvert_exporter": "python",
   "pygments_lexer": "ipython3",
   "version": "3.6.3"
  }
 },
 "nbformat": 4,
 "nbformat_minor": 4
}
