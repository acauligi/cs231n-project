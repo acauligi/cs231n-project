{
 "cells": [
  {
   "cell_type": "code",
   "execution_count": 2,
   "metadata": {},
   "outputs": [],
   "source": [
    "%load_ext autoreload\n",
    "%autoreload 2"
   ]
  },
  {
   "cell_type": "code",
   "execution_count": 4,
   "metadata": {},
   "outputs": [],
   "source": [
    "import pdb\n",
    "import numpy as np\n",
    "from scipy import stats\n",
    "import matplotlib.pyplot as plt\n",
    "\n",
    "import h5py\n",
    "\n",
    "import torch\n",
    "import torchvision\n",
    "from torch import nn\n",
    "from torch.autograd import Variable\n",
    "from torch.utils.data import DataLoader\n",
    "from torchvision import transforms\n",
    "from torchvision.utils import save_image\n",
    "from torchvision.datasets import MNIST\n",
    "import torch.optim as optim\n",
    "import os\n",
    "\n",
    "import cvxpy as cp\n",
    "\n",
    "from mie2c.e2c import E2C, compute_loss, PWATransition\n",
    "from mie2c.cartpole_model import (get_cartpole_encoder, get_cartpole_decoder,\n",
    "    get_cartpole_transition, get_cartpole_linear_transition, get_cartpole_pwa_transition)\n",
    "\n",
    "os.environ['CUDA_VISIBLE_DEVICES'] = '0'"
   ]
  },
  {
   "cell_type": "markdown",
   "metadata": {},
   "source": [
    "### Run `python generate_cartpole_data.py N --torque_control` where `N` is the number of desired samples "
   ]
  },
  {
   "cell_type": "code",
   "execution_count": 5,
   "metadata": {},
   "outputs": [],
   "source": [
    "# load data generated for the cartpole\n",
    "X0 = np.load('data/cartpole_X0.npy')\n",
    "X_all = np.load('data/cartpole_X.npy')\n",
    "U_all = np.load('data/cartpole_U.npy')\n",
    "X_next_all = np.load('data/cartpole_X_next.npy')\n",
    "\n",
    "# test_ratio = .01\n",
    "# test_indx = int(test_ratio * X_all.shape[0])\n",
    "test_indx = 100\n",
    "\n",
    "X0 = torch.tensor(X0, dtype=torch.float) / 255.\n",
    "X_test = torch.tensor(X_all[:test_indx, :, :, :], dtype=torch.float)\n",
    "U_test = torch.tensor(U_all[:test_indx, :], dtype=torch.float)\n",
    "X_next_test = torch.tensor(X_next_all[:test_indx, :, :, :], dtype=torch.float)\n",
    "\n",
    "X = torch.tensor(X_all[test_indx:, :, :, :], dtype=torch.float)\n",
    "U = torch.tensor(U_all[test_indx:, :], dtype=torch.float)\n",
    "X_next = torch.tensor(X_next_all[test_indx:, :, :, :], dtype=torch.float)\n",
    "\n",
    "NUM_TEST = X_test.shape[0]\n",
    "NUM_DATA = X.shape[0]\n",
    "\n",
    "dataset = torch.utils.data.TensorDataset(X, U, X_next)"
   ]
  },
  {
   "cell_type": "code",
   "execution_count": 6,
   "metadata": {},
   "outputs": [],
   "source": [
    "C,W,H = X.shape[1:]\n",
    "\n",
    "dim_in = X[0].shape\n",
    "dim_z = 6\n",
    "dim_u = 1\n",
    "use_cuda = False"
   ]
  },
  {
   "cell_type": "code",
   "execution_count": 6,
   "metadata": {},
   "outputs": [],
   "source": [
    "def show_samples(X_samples, X_next_samples=None):\n",
    "    num_samples = X_samples.shape[0]\n",
    "    fig = plt.figure(figsize=(10,10))\n",
    "    for k in range(num_samples):\n",
    "        if X_next_samples is not None:\n",
    "            fig.add_subplot(num_samples,3,k*3+1)\n",
    "            plt.imshow(X_samples[k,:3,:,:].to('cpu').type(torch.uint8).detach().numpy().transpose(1,2,0))\n",
    "            fig.add_subplot(num_samples,3,k*3+2)\n",
    "            plt.imshow(X_samples[k,3:,:,:].to('cpu').type(torch.uint8).detach().numpy().transpose(1,2,0))\n",
    "            fig.add_subplot(num_samples,3,k*3+3)\n",
    "            plt.imshow(X_next_samples[k,3:,:,:].to('cpu').type(torch.uint8).detach().numpy().transpose(1,2,0))\n",
    "        else:\n",
    "            fig.add_subplot(num_samples,2,k*2+1)\n",
    "            plt.imshow(X_samples[k,:3,:,:].to('cpu').type(torch.uint8).detach().numpy().transpose(1,2,0))\n",
    "            fig.add_subplot(num_samples,2,k*2+2)\n",
    "            plt.imshow(X_samples[k,3:,:,:].to('cpu').type(torch.uint8).detach().numpy().transpose(1,2,0))\n",
    "    plt.show()"
   ]
  },
  {
   "cell_type": "code",
   "execution_count": 22,
   "metadata": {},
   "outputs": [
    {
     "data": {
      "image/png": "[encoded data removed]",
      "text/plain": [
       "<Figure size 720x720 with 3 Axes>"
      ]
     },
     "metadata": {
      "needs_background": "light"
     },
     "output_type": "display_data"
    }
   ],
   "source": [
    "idx = [np.random.randint(NUM_DATA)]\n",
    "show_samples(X[idx,:,:,:], X_next[idx,:,:,:])"
   ]
  },
  {
   "cell_type": "code",
   "execution_count": 7,
   "metadata": {},
   "outputs": [],
   "source": [
    "use_low_rank = False  # True if A = I + r*v^T\n",
    "num_modes = 3\n",
    "\n",
    "encoder = get_cartpole_encoder(dim_in, dim_z)\n",
    "pwa_transition = get_cartpole_pwa_transition(num_modes, dim_z, dim_u, low_rank=use_low_rank)\n",
    "decoder = get_cartpole_decoder(dim_z, dim_in) \n",
    "\n",
    "fn_pwa = 'model_pwa'\n",
    "model_pwa = E2C(encoder, pwa_transition, decoder)\n",
    "\n",
    "# if os.path.exists('pytorch/{}.pt'.format(fn_pwa)):\n",
    "#     model_pwa.load_state_dict(torch.load('pytorch/{}.pt'.format(fn_pwa)))"
   ]
  },
  {
   "cell_type": "markdown",
   "metadata": {},
   "source": [
    "# Train PWA model"
   ]
  },
  {
   "cell_type": "code",
   "execution_count": 24,
   "metadata": {},
   "outputs": [],
   "source": [
    "def train_vae(model, model_name, dataset, verbose=True, cuda=False):\n",
    "    if not os.path.exists('pytorch'):\n",
    "        os.makedirs('pytorch')\n",
    "    fn_pt_model = 'pytorch/{}.pt'.format(model_name)\n",
    "    dim_u = model.trans.dim_u\n",
    "\n",
    "    # training parameters\n",
    "    NUM_EPOCH = 100\n",
    "    BATCH_SIZE = 64\n",
    "    CHECKPOINT_AFTER = 10\n",
    "    SAVEPOINT_AFTER = 20\n",
    "\n",
    "    KL_LAMBDA = .25\n",
    "    TEMP_LAMBDA = 10.\n",
    "\n",
    "    if cuda:\n",
    "        model = model.to(\"cuda\")\n",
    "\n",
    "    dataloader = torch.utils.data.DataLoader(dataset, batch_size=BATCH_SIZE, shuffle=True)\n",
    "    optimizer = optim.Adam(model.parameters())\n",
    "\n",
    "    itr = 0\n",
    "    for epoch in range(NUM_EPOCH):\n",
    "        for x, u, x_next in dataloader:\n",
    "            optimizer.zero_grad()\n",
    "\n",
    "            model(x, u, x_next)\n",
    "            elbo_loss, kl_loss = compute_loss(model.x_dec, model.x_next_dec, model.x_next_pred_dec,\n",
    "                                              x / 255., x_next / 255.,\n",
    "                                              model.Qz, model.Qz_next, model.Qz_next_pred)\n",
    "            loss = elbo_loss + KL_LAMBDA * kl_loss\n",
    "            if isinstance(model.trans, PWATransition):\n",
    "                loss += TEMP_LAMBDA * model.trans.temperature.pow(2)[0]\n",
    "\n",
    "            loss.backward()\n",
    "            optimizer.step()\n",
    "\n",
    "            if itr % CHECKPOINT_AFTER == 0:\n",
    "                print('Avg. loss: {}'.format(loss.item()))\n",
    "\n",
    "            if itr % SAVEPOINT_AFTER == 0:\n",
    "                torch.save(model.state_dict(), fn_pt_model)\n",
    "\n",
    "            itr += 1\n",
    "\n",
    "    torch.save(model.state_dict(), fn_pt_model)"
   ]
  },
  {
   "cell_type": "code",
   "execution_count": 30,
   "metadata": {
    "collapsed": true,
    "jupyter": {
     "outputs_hidden": true
    }
   },
   "outputs": [
    {
     "name": "stdout",
     "output_type": "stream",
     "text": [
      "Avg. loss: 4302222.407586278\n"
     ]
    },
    {
     "ename": "KeyboardInterrupt",
     "evalue": "",
     "output_type": "error",
     "traceback": [
      "\u001b[0;31m---------------------------------------------------------------------------\u001b[0m",
      "\u001b[0;31mKeyboardInterrupt\u001b[0m                         Traceback (most recent call last)",
      "\u001b[0;32m<ipython-input-30-0d0e55e56d14>\u001b[0m in \u001b[0;36m<module>\u001b[0;34m\u001b[0m\n\u001b[0;32m----> 1\u001b[0;31m \u001b[0mtrain_vae\u001b[0m\u001b[0;34m(\u001b[0m\u001b[0mmodel_pwa\u001b[0m\u001b[0;34m,\u001b[0m \u001b[0mfn_pwa\u001b[0m\u001b[0;34m,\u001b[0m \u001b[0mdataset\u001b[0m\u001b[0;34m,\u001b[0m \u001b[0mverbose\u001b[0m\u001b[0;34m=\u001b[0m\u001b[0;32mTrue\u001b[0m\u001b[0;34m,\u001b[0m \u001b[0mcuda\u001b[0m\u001b[0;34m=\u001b[0m\u001b[0;32mFalse\u001b[0m\u001b[0;34m)\u001b[0m\u001b[0;34m\u001b[0m\u001b[0;34m\u001b[0m\u001b[0m\n\u001b[0m",
      "\u001b[0;32m<ipython-input-24-f8cb92b258ec>\u001b[0m in \u001b[0;36mtrain_vae\u001b[0;34m(model, model_name, dataset, verbose, cuda)\u001b[0m\n\u001b[1;32m     25\u001b[0m             \u001b[0moptimizer\u001b[0m\u001b[0;34m.\u001b[0m\u001b[0mzero_grad\u001b[0m\u001b[0;34m(\u001b[0m\u001b[0;34m)\u001b[0m\u001b[0;34m\u001b[0m\u001b[0;34m\u001b[0m\u001b[0m\n\u001b[1;32m     26\u001b[0m \u001b[0;34m\u001b[0m\u001b[0m\n\u001b[0;32m---> 27\u001b[0;31m             \u001b[0mmodel\u001b[0m\u001b[0;34m(\u001b[0m\u001b[0mx\u001b[0m\u001b[0;34m,\u001b[0m \u001b[0mu\u001b[0m\u001b[0;34m,\u001b[0m \u001b[0mx_next\u001b[0m\u001b[0;34m)\u001b[0m\u001b[0;34m\u001b[0m\u001b[0;34m\u001b[0m\u001b[0m\n\u001b[0m\u001b[1;32m     28\u001b[0m             elbo_loss, kl_loss = compute_loss(model.x_dec, model.x_next_dec, model.x_next_pred_dec,\n\u001b[1;32m     29\u001b[0m                                               \u001b[0mx\u001b[0m \u001b[0;34m/\u001b[0m \u001b[0;36m255.\u001b[0m\u001b[0;34m,\u001b[0m \u001b[0mx_next\u001b[0m \u001b[0;34m/\u001b[0m \u001b[0;36m255.\u001b[0m\u001b[0;34m,\u001b[0m\u001b[0;34m\u001b[0m\u001b[0;34m\u001b[0m\u001b[0m\n",
      "\u001b[0;32m~/Dropbox/2019_20/spring_20/cs_231n/project/cs231n-project/cs231n_project/lib/python3.7/site-packages/torch/nn/modules/module.py\u001b[0m in \u001b[0;36m__call__\u001b[0;34m(self, *input, **kwargs)\u001b[0m\n\u001b[1;32m    548\u001b[0m             \u001b[0mresult\u001b[0m \u001b[0;34m=\u001b[0m \u001b[0mself\u001b[0m\u001b[0;34m.\u001b[0m\u001b[0m_slow_forward\u001b[0m\u001b[0;34m(\u001b[0m\u001b[0;34m*\u001b[0m\u001b[0minput\u001b[0m\u001b[0;34m,\u001b[0m \u001b[0;34m**\u001b[0m\u001b[0mkwargs\u001b[0m\u001b[0;34m)\u001b[0m\u001b[0;34m\u001b[0m\u001b[0;34m\u001b[0m\u001b[0m\n\u001b[1;32m    549\u001b[0m         \u001b[0;32melse\u001b[0m\u001b[0;34m:\u001b[0m\u001b[0;34m\u001b[0m\u001b[0;34m\u001b[0m\u001b[0m\n\u001b[0;32m--> 550\u001b[0;31m             \u001b[0mresult\u001b[0m \u001b[0;34m=\u001b[0m \u001b[0mself\u001b[0m\u001b[0;34m.\u001b[0m\u001b[0mforward\u001b[0m\u001b[0;34m(\u001b[0m\u001b[0;34m*\u001b[0m\u001b[0minput\u001b[0m\u001b[0;34m,\u001b[0m \u001b[0;34m**\u001b[0m\u001b[0mkwargs\u001b[0m\u001b[0;34m)\u001b[0m\u001b[0;34m\u001b[0m\u001b[0;34m\u001b[0m\u001b[0m\n\u001b[0m\u001b[1;32m    551\u001b[0m         \u001b[0;32mfor\u001b[0m \u001b[0mhook\u001b[0m \u001b[0;32min\u001b[0m \u001b[0mself\u001b[0m\u001b[0;34m.\u001b[0m\u001b[0m_forward_hooks\u001b[0m\u001b[0;34m.\u001b[0m\u001b[0mvalues\u001b[0m\u001b[0;34m(\u001b[0m\u001b[0;34m)\u001b[0m\u001b[0;34m:\u001b[0m\u001b[0;34m\u001b[0m\u001b[0;34m\u001b[0m\u001b[0m\n\u001b[1;32m    552\u001b[0m             \u001b[0mhook_result\u001b[0m \u001b[0;34m=\u001b[0m \u001b[0mhook\u001b[0m\u001b[0;34m(\u001b[0m\u001b[0mself\u001b[0m\u001b[0;34m,\u001b[0m \u001b[0minput\u001b[0m\u001b[0;34m,\u001b[0m \u001b[0mresult\u001b[0m\u001b[0;34m)\u001b[0m\u001b[0;34m\u001b[0m\u001b[0;34m\u001b[0m\u001b[0m\n",
      "\u001b[0;32m~/Dropbox/2019_20/spring_20/cs_231n/project/cs231n-project/mie2c/e2c.py\u001b[0m in \u001b[0;36mforward\u001b[0;34m(self, x, action, x_next)\u001b[0m\n\u001b[1;32m    338\u001b[0m         \u001b[0mz_next\u001b[0m\u001b[0;34m,\u001b[0m \u001b[0mself\u001b[0m\u001b[0;34m.\u001b[0m\u001b[0mQz_next\u001b[0m \u001b[0;34m=\u001b[0m \u001b[0mself\u001b[0m\u001b[0;34m.\u001b[0m\u001b[0mreparam\u001b[0m\u001b[0;34m(\u001b[0m\u001b[0mmean_next\u001b[0m\u001b[0;34m,\u001b[0m \u001b[0mlogvar_next\u001b[0m\u001b[0;34m)\u001b[0m\u001b[0;34m\u001b[0m\u001b[0;34m\u001b[0m\u001b[0m\n\u001b[1;32m    339\u001b[0m \u001b[0;34m\u001b[0m\u001b[0m\n\u001b[0;32m--> 340\u001b[0;31m         \u001b[0mself\u001b[0m\u001b[0;34m.\u001b[0m\u001b[0mx_dec\u001b[0m \u001b[0;34m=\u001b[0m \u001b[0mself\u001b[0m\u001b[0;34m.\u001b[0m\u001b[0mdecode\u001b[0m\u001b[0;34m(\u001b[0m\u001b[0mz\u001b[0m\u001b[0;34m)\u001b[0m\u001b[0;34m\u001b[0m\u001b[0;34m\u001b[0m\u001b[0m\n\u001b[0m\u001b[1;32m    341\u001b[0m         \u001b[0mself\u001b[0m\u001b[0;34m.\u001b[0m\u001b[0mx_next_dec\u001b[0m \u001b[0;34m=\u001b[0m \u001b[0mself\u001b[0m\u001b[0;34m.\u001b[0m\u001b[0mdecode\u001b[0m\u001b[0;34m(\u001b[0m\u001b[0mz_next\u001b[0m\u001b[0;34m)\u001b[0m\u001b[0;34m\u001b[0m\u001b[0;34m\u001b[0m\u001b[0m\n\u001b[1;32m    342\u001b[0m \u001b[0;34m\u001b[0m\u001b[0m\n",
      "\u001b[0;32m~/Dropbox/2019_20/spring_20/cs_231n/project/cs231n-project/mie2c/e2c.py\u001b[0m in \u001b[0;36mdecode\u001b[0;34m(self, z)\u001b[0m\n\u001b[1;32m    312\u001b[0m \u001b[0;34m\u001b[0m\u001b[0m\n\u001b[1;32m    313\u001b[0m     \u001b[0;32mdef\u001b[0m \u001b[0mdecode\u001b[0m\u001b[0;34m(\u001b[0m\u001b[0mself\u001b[0m\u001b[0;34m,\u001b[0m \u001b[0mz\u001b[0m\u001b[0;34m)\u001b[0m\u001b[0;34m:\u001b[0m\u001b[0;34m\u001b[0m\u001b[0;34m\u001b[0m\u001b[0m\n\u001b[0;32m--> 314\u001b[0;31m         \u001b[0;32mreturn\u001b[0m \u001b[0mself\u001b[0m\u001b[0;34m.\u001b[0m\u001b[0mdecoder\u001b[0m\u001b[0;34m(\u001b[0m\u001b[0mz\u001b[0m\u001b[0;34m)\u001b[0m\u001b[0;34m\u001b[0m\u001b[0;34m\u001b[0m\u001b[0m\n\u001b[0m\u001b[1;32m    315\u001b[0m \u001b[0;34m\u001b[0m\u001b[0m\n\u001b[1;32m    316\u001b[0m     \u001b[0;32mdef\u001b[0m \u001b[0mtransition\u001b[0m\u001b[0;34m(\u001b[0m\u001b[0mself\u001b[0m\u001b[0;34m,\u001b[0m \u001b[0mz\u001b[0m\u001b[0;34m,\u001b[0m \u001b[0mQz\u001b[0m\u001b[0;34m,\u001b[0m \u001b[0mu\u001b[0m\u001b[0;34m)\u001b[0m\u001b[0;34m:\u001b[0m\u001b[0;34m\u001b[0m\u001b[0;34m\u001b[0m\u001b[0m\n",
      "\u001b[0;32m~/Dropbox/2019_20/spring_20/cs_231n/project/cs231n-project/cs231n_project/lib/python3.7/site-packages/torch/nn/modules/module.py\u001b[0m in \u001b[0;36m__call__\u001b[0;34m(self, *input, **kwargs)\u001b[0m\n\u001b[1;32m    548\u001b[0m             \u001b[0mresult\u001b[0m \u001b[0;34m=\u001b[0m \u001b[0mself\u001b[0m\u001b[0;34m.\u001b[0m\u001b[0m_slow_forward\u001b[0m\u001b[0;34m(\u001b[0m\u001b[0;34m*\u001b[0m\u001b[0minput\u001b[0m\u001b[0;34m,\u001b[0m \u001b[0;34m**\u001b[0m\u001b[0mkwargs\u001b[0m\u001b[0;34m)\u001b[0m\u001b[0;34m\u001b[0m\u001b[0;34m\u001b[0m\u001b[0m\n\u001b[1;32m    549\u001b[0m         \u001b[0;32melse\u001b[0m\u001b[0;34m:\u001b[0m\u001b[0;34m\u001b[0m\u001b[0;34m\u001b[0m\u001b[0m\n\u001b[0;32m--> 550\u001b[0;31m             \u001b[0mresult\u001b[0m \u001b[0;34m=\u001b[0m \u001b[0mself\u001b[0m\u001b[0;34m.\u001b[0m\u001b[0mforward\u001b[0m\u001b[0;34m(\u001b[0m\u001b[0;34m*\u001b[0m\u001b[0minput\u001b[0m\u001b[0;34m,\u001b[0m \u001b[0;34m**\u001b[0m\u001b[0mkwargs\u001b[0m\u001b[0;34m)\u001b[0m\u001b[0;34m\u001b[0m\u001b[0;34m\u001b[0m\u001b[0m\n\u001b[0m\u001b[1;32m    551\u001b[0m         \u001b[0;32mfor\u001b[0m \u001b[0mhook\u001b[0m \u001b[0;32min\u001b[0m \u001b[0mself\u001b[0m\u001b[0;34m.\u001b[0m\u001b[0m_forward_hooks\u001b[0m\u001b[0;34m.\u001b[0m\u001b[0mvalues\u001b[0m\u001b[0;34m(\u001b[0m\u001b[0;34m)\u001b[0m\u001b[0;34m:\u001b[0m\u001b[0;34m\u001b[0m\u001b[0;34m\u001b[0m\u001b[0m\n\u001b[1;32m    552\u001b[0m             \u001b[0mhook_result\u001b[0m \u001b[0;34m=\u001b[0m \u001b[0mhook\u001b[0m\u001b[0;34m(\u001b[0m\u001b[0mself\u001b[0m\u001b[0;34m,\u001b[0m \u001b[0minput\u001b[0m\u001b[0;34m,\u001b[0m \u001b[0mresult\u001b[0m\u001b[0;34m)\u001b[0m\u001b[0;34m\u001b[0m\u001b[0;34m\u001b[0m\u001b[0m\n",
      "\u001b[0;32m~/Dropbox/2019_20/spring_20/cs_231n/project/cs231n-project/mie2c/e2c.py\u001b[0m in \u001b[0;36mforward\u001b[0;34m(self, x)\u001b[0m\n\u001b[1;32m    132\u001b[0m         \u001b[0mx\u001b[0m \u001b[0;34m=\u001b[0m \u001b[0mx\u001b[0m\u001b[0;34m.\u001b[0m\u001b[0mview\u001b[0m\u001b[0;34m(\u001b[0m\u001b[0mN\u001b[0m\u001b[0;34m,\u001b[0m\u001b[0mC\u001b[0m\u001b[0;34m,\u001b[0m\u001b[0mW\u001b[0m\u001b[0;34m,\u001b[0m\u001b[0mH\u001b[0m\u001b[0;34m)\u001b[0m\u001b[0;34m\u001b[0m\u001b[0;34m\u001b[0m\u001b[0m\n\u001b[1;32m    133\u001b[0m         \u001b[0;32mfor\u001b[0m \u001b[0mii\u001b[0m \u001b[0;32min\u001b[0m \u001b[0mrange\u001b[0m\u001b[0;34m(\u001b[0m\u001b[0;36m0\u001b[0m\u001b[0;34m,\u001b[0m \u001b[0mlen\u001b[0m\u001b[0;34m(\u001b[0m\u001b[0mself\u001b[0m\u001b[0;34m.\u001b[0m\u001b[0mconv_layers\u001b[0m\u001b[0;34m)\u001b[0m\u001b[0;34m)\u001b[0m\u001b[0;34m:\u001b[0m\u001b[0;34m\u001b[0m\u001b[0;34m\u001b[0m\u001b[0m\n\u001b[0;32m--> 134\u001b[0;31m             \u001b[0mx\u001b[0m \u001b[0;34m=\u001b[0m \u001b[0mself\u001b[0m\u001b[0;34m.\u001b[0m\u001b[0mconv_layers\u001b[0m\u001b[0;34m[\u001b[0m\u001b[0mii\u001b[0m\u001b[0;34m]\u001b[0m\u001b[0;34m(\u001b[0m\u001b[0mx\u001b[0m\u001b[0;34m)\u001b[0m\u001b[0;34m\u001b[0m\u001b[0;34m\u001b[0m\u001b[0m\n\u001b[0m\u001b[1;32m    135\u001b[0m             \u001b[0;31m# x = self.batch_norm_layers[ii](x)\u001b[0m\u001b[0;34m\u001b[0m\u001b[0;34m\u001b[0m\u001b[0;34m\u001b[0m\u001b[0m\n\u001b[1;32m    136\u001b[0m             \u001b[0;32mif\u001b[0m \u001b[0mself\u001b[0m\u001b[0;34m.\u001b[0m\u001b[0mconv_activation\u001b[0m\u001b[0;34m:\u001b[0m\u001b[0;34m\u001b[0m\u001b[0;34m\u001b[0m\u001b[0m\n",
      "\u001b[0;32m~/Dropbox/2019_20/spring_20/cs_231n/project/cs231n-project/cs231n_project/lib/python3.7/site-packages/torch/nn/modules/module.py\u001b[0m in \u001b[0;36m__call__\u001b[0;34m(self, *input, **kwargs)\u001b[0m\n\u001b[1;32m    548\u001b[0m             \u001b[0mresult\u001b[0m \u001b[0;34m=\u001b[0m \u001b[0mself\u001b[0m\u001b[0;34m.\u001b[0m\u001b[0m_slow_forward\u001b[0m\u001b[0;34m(\u001b[0m\u001b[0;34m*\u001b[0m\u001b[0minput\u001b[0m\u001b[0;34m,\u001b[0m \u001b[0;34m**\u001b[0m\u001b[0mkwargs\u001b[0m\u001b[0;34m)\u001b[0m\u001b[0;34m\u001b[0m\u001b[0;34m\u001b[0m\u001b[0m\n\u001b[1;32m    549\u001b[0m         \u001b[0;32melse\u001b[0m\u001b[0;34m:\u001b[0m\u001b[0;34m\u001b[0m\u001b[0;34m\u001b[0m\u001b[0m\n\u001b[0;32m--> 550\u001b[0;31m             \u001b[0mresult\u001b[0m \u001b[0;34m=\u001b[0m \u001b[0mself\u001b[0m\u001b[0;34m.\u001b[0m\u001b[0mforward\u001b[0m\u001b[0;34m(\u001b[0m\u001b[0;34m*\u001b[0m\u001b[0minput\u001b[0m\u001b[0;34m,\u001b[0m \u001b[0;34m**\u001b[0m\u001b[0mkwargs\u001b[0m\u001b[0;34m)\u001b[0m\u001b[0;34m\u001b[0m\u001b[0;34m\u001b[0m\u001b[0m\n\u001b[0m\u001b[1;32m    551\u001b[0m         \u001b[0;32mfor\u001b[0m \u001b[0mhook\u001b[0m \u001b[0;32min\u001b[0m \u001b[0mself\u001b[0m\u001b[0;34m.\u001b[0m\u001b[0m_forward_hooks\u001b[0m\u001b[0;34m.\u001b[0m\u001b[0mvalues\u001b[0m\u001b[0;34m(\u001b[0m\u001b[0;34m)\u001b[0m\u001b[0;34m:\u001b[0m\u001b[0;34m\u001b[0m\u001b[0;34m\u001b[0m\u001b[0m\n\u001b[1;32m    552\u001b[0m             \u001b[0mhook_result\u001b[0m \u001b[0;34m=\u001b[0m \u001b[0mhook\u001b[0m\u001b[0;34m(\u001b[0m\u001b[0mself\u001b[0m\u001b[0;34m,\u001b[0m \u001b[0minput\u001b[0m\u001b[0;34m,\u001b[0m \u001b[0mresult\u001b[0m\u001b[0;34m)\u001b[0m\u001b[0;34m\u001b[0m\u001b[0;34m\u001b[0m\u001b[0m\n",
      "\u001b[0;32m~/Dropbox/2019_20/spring_20/cs_231n/project/cs231n-project/cs231n_project/lib/python3.7/site-packages/torch/nn/modules/conv.py\u001b[0m in \u001b[0;36mforward\u001b[0;34m(self, input, output_size)\u001b[0m\n\u001b[1;32m    788\u001b[0m         return F.conv_transpose2d(\n\u001b[1;32m    789\u001b[0m             \u001b[0minput\u001b[0m\u001b[0;34m,\u001b[0m \u001b[0mself\u001b[0m\u001b[0;34m.\u001b[0m\u001b[0mweight\u001b[0m\u001b[0;34m,\u001b[0m \u001b[0mself\u001b[0m\u001b[0;34m.\u001b[0m\u001b[0mbias\u001b[0m\u001b[0;34m,\u001b[0m \u001b[0mself\u001b[0m\u001b[0;34m.\u001b[0m\u001b[0mstride\u001b[0m\u001b[0;34m,\u001b[0m \u001b[0mself\u001b[0m\u001b[0;34m.\u001b[0m\u001b[0mpadding\u001b[0m\u001b[0;34m,\u001b[0m\u001b[0;34m\u001b[0m\u001b[0;34m\u001b[0m\u001b[0m\n\u001b[0;32m--> 790\u001b[0;31m             output_padding, self.groups, self.dilation)\n\u001b[0m\u001b[1;32m    791\u001b[0m \u001b[0;34m\u001b[0m\u001b[0m\n\u001b[1;32m    792\u001b[0m \u001b[0;34m\u001b[0m\u001b[0m\n",
      "\u001b[0;31mKeyboardInterrupt\u001b[0m: "
     ]
    }
   ],
   "source": [
    "train_vae(model_pwa, fn_pwa, dataset, verbose=True, cuda=False)"
   ]
  },
  {
   "cell_type": "markdown",
   "metadata": {},
   "source": [
    "# Run MICP controller"
   ]
  },
  {
   "cell_type": "code",
   "execution_count": 23,
   "metadata": {},
   "outputs": [],
   "source": [
    "num_modes = len(model_pwa.trans.As)\n",
    "N = 6 # Horizon for controller\n",
    "\n",
    "Aks, Bks, oks = [], [], []\n",
    "Ws, bs = [], []\n",
    "for ii in range(num_modes):\n",
    "    Aks.append(model_pwa.trans.As[0].detach().numpy())\n",
    "    Bks.append(model_pwa.trans.Bs[0].detach().numpy())\n",
    "    oks.append(model_pwa.trans.os[0].detach().numpy().flatten())\n",
    "    Ws.append(model_pwa.trans.mode_classifier.weight[ii].detach().numpy().flatten())\n",
    "    bs.append(model_pwa.trans.mode_classifier.weight[ii].detach().numpy().flatten())"
   ]
  },
  {
   "cell_type": "code",
   "execution_count": 53,
   "metadata": {},
   "outputs": [],
   "source": [
    "M = np.maximum((model_pwa.trans.mode_classifier.weight.abs().max() + model_pwa.trans.mode_classifier.bias.abs().max()).detach().numpy(), 1e4)\n",
    "\n",
    "z = cp.Variable((dim_z, N))\n",
    "u = cp.Variable((dim_u, N-1))\n",
    "y = cp.Variable((num_modes, N-1), boolean=True)\n",
    "\n",
    "z0 = cp.Parameter(dim_z)\n",
    "zg = cp.Parameter(dim_z)\n",
    "\n",
    "cons = []\n",
    "\n",
    "# Initial condition\n",
    "cons += [z[:,0] == z0]\n",
    "\n",
    "# Dynamics constraints\n",
    "for ii in range(N-1):\n",
    "    cons += [cp.sum(y[:,ii]) == 1]\n",
    "    for jj in range(num_modes):\n",
    "        Ak, Bk, ok = Aks[jj], Bks[jj], oks[jj]      \n",
    "        cons += [Ak @ z[:,ii] + Bk @ u[:,ii] + ok - z[:,ii+1] <= M*(cp.sum(y[:,ii]) - y[jj,ii])]\n",
    "        cons += [z[:,ii+1] - (Ak @ z[:,ii] + Bk @ u[:,ii] + ok) <= M*(cp.sum(y[:,ii]) - y[jj,ii])]\n",
    "\n",
    "# Piecewise affine constraints\n",
    "for ii in range(num_modes):\n",
    "    w_ii, b_ii = Ws[ii], bs[ii]\n",
    "    for jj in range(num_modes):\n",
    "        if ii == jj:\n",
    "            continue\n",
    "        w_jj, b_jj = Ws[jj], bs[jj]\n",
    "        for kk in range(N-1):\n",
    "            cons += [w_jj @ z[:,kk] + b_jj - (w_ii @ z[:,kk] + b_ii) <= M*(cp.sum(y[:,ii]) - y[jj,ii])]\n",
    "\n",
    "# Control constraints\n",
    "force_max = 10.\n",
    "for ii in range(N-1):\n",
    "    cons += [cp.abs(u[:,ii]) <= force_max]\n",
    "\n",
    "# LQR cost\n",
    "lqr_cost = 0.\n",
    "Q = np.eye(dim_z)\n",
    "R = 0.1\n",
    "for ii in range(1,N):\n",
    "    lqr_cost += cp.quad_form(z[:,ii]-zg, Q)\n",
    "for ii in range(N-1):\n",
    "    lqr_cost += R*cp.abs(u[0,ii])\n",
    "\n",
    "bin_prob = cp.Problem(cp.Minimize(lqr_cost), cons)\n",
    "bin_prob_params = {'z0':z0, 'zg':zg}"
   ]
  },
  {
   "cell_type": "code",
   "execution_count": 27,
   "metadata": {},
   "outputs": [],
   "source": [
    "bin_prob_params['z0'].value = model_pwa.encode(X_test[0,:,:,:].unsqueeze(0))[0].detach().numpy().flatten()\n",
    "bin_prob_params['zg'].value = model_pwa.encode(X0[0,:,:,:].unsqueeze(0))[0].detach().numpy().flatten()"
   ]
  },
  {
   "cell_type": "code",
   "execution_count": 28,
   "metadata": {},
   "outputs": [
    {
     "name": "stdout",
     "output_type": "stream",
     "text": [
      "Academic license - for non-commercial use only - expires 2021-05-17\n",
      "Using license file /Users/acauligi/gurobi.lic\n",
      "216210.36176428522\n",
      "2331684.2689093566\n",
      "37815495.74061254\n",
      "1089043481.3650239\n",
      "30651527559.777245\n",
      "1001095455830.929\n",
      "inf\n"
     ]
    },
    {
     "name": "stderr",
     "output_type": "stream",
     "text": [
      "/Users/acauligi/Dropbox/2019_20/spring_20/cs_231n/project/cs231n-project/cs231n_project/lib/python3.7/site-packages/cvxpy/problems/problem.py:1246: UserWarning: Solution may be inaccurate. Try another solver, adjusting the solver settings, or solve with verbose=True for more information.\n",
      "  \"Solution may be inaccurate. Try another solver, \"\n"
     ]
    }
   ],
   "source": [
    "n_rollouts = 10\n",
    "mpc_imgs = torch.zeros((n_rollouts+2,C,W,H))\n",
    "\n",
    "mpc_imgs[0] = X_test[0,:,:,:]\n",
    "mpc_imgs[-1] = X0[0,:,:,:]\n",
    "\n",
    "for ii in range(n_rollouts):\n",
    "    bin_prob.solve(solver=cp.GUROBI)\n",
    "    print(bin_prob.value)\n",
    "    if bin_prob.status not in ['optimal', 'feasible']:\n",
    "        break\n",
    "\n",
    "    img_out = model_pwa.decode(torch.tensor(z.value[:,1], dtype=torch.float).unsqueeze(0))\n",
    "    mpc_imgs[ii+1] = img_out\n",
    "\n",
    "    # Update initial condition for MICP\n",
    "    bin_prob_params['z0'].value = z.value[:,1]"
   ]
  },
  {
   "cell_type": "code",
   "execution_count": 29,
   "metadata": {},
   "outputs": [
    {
     "data": {
      "text/plain": [
       "<matplotlib.image.AxesImage at 0x7fcc0b7031d0>"
      ]
     },
     "execution_count": 29,
     "metadata": {},
     "output_type": "execute_result"
    },
    {
     "data": {
      "image/png": "[encoded data removed]",
      "text/plain": [
       "<Figure size 432x288 with 1 Axes>"
      ]
     },
     "metadata": {
      "needs_background": "light"
     },
     "output_type": "display_data"
    }
   ],
   "source": [
    "plt.imshow(mpc_imgs[-1,3:,:,:].to('cpu').type(torch.uint8).detach().numpy().transpose(1,2,0))"
   ]
  },
  {
   "cell_type": "code",
   "execution_count": null,
   "metadata": {},
   "outputs": [],
   "source": []
  }
 ],
 "metadata": {
  "kernelspec": {
   "display_name": "melon",
   "language": "python",
   "name": "melon"
  },
  "language_info": {
   "codemirror_mode": {
    "name": "ipython",
    "version": 3
   },
   "file_extension": ".py",
   "mimetype": "text/x-python",
   "name": "python",
   "nbconvert_exporter": "python",
   "pygments_lexer": "ipython3",
   "version": "3.6.3"
  }
 },
 "nbformat": 4,
 "nbformat_minor": 4
}
